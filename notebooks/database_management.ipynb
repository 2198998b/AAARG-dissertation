{
 "cells": [
  {
   "cell_type": "markdown",
   "metadata": {},
   "source": [
    "# Database Management\n",
    "\n",
    "## Notebook for creating and editing database tables/entries"
   ]
  },
  {
   "cell_type": "code",
   "execution_count": 7,
   "metadata": {},
   "outputs": [],
   "source": [
    "import sqlite3\n",
    "sqlite3.register_adapter(np.int64, lambda val: int(val))  # sqlite3 won't accept int > 8 bytes\n",
    "sqlite3.register_adapter(np.int32, lambda val: int(val))\n",
    "import warnings\n",
    "\n",
    "db_dir = '/nfs/proj-repo/AAARG-dissertation'\n",
    "db_name = 'sumresults.db'\n",
    "db_path = db_dir + '/' + db_name"
   ]
  },
  {
   "cell_type": "code",
   "execution_count": 2,
   "metadata": {},
   "outputs": [],
   "source": [
    "def get_connection(path):\n",
    "    conn = sqlite3.connect(path)  # creates db if doesn't exist\n",
    "    c = conn.cursor()\n",
    "    return conn, c"
   ]
  },
  {
   "cell_type": "code",
   "execution_count": 3,
   "metadata": {},
   "outputs": [
    {
     "name": "stdout",
     "output_type": "stream",
     "text": [
      "creating topic table...\n",
      "creating techniques table...\n",
      "creating instances table...\n",
      "creating meta table...\n",
      "creating updates table...\n",
      "creating nuggets table...\n",
      "creating linking nuggets table\n",
      "committing changes\n",
      "committed\n"
     ]
    }
   ],
   "source": [
    "def create_tables(conn, cursor, topic=True, techniques=True, \n",
    "                  instances=True, nuggets=True, meta=True, updates=True):\n",
    "    if topic: # create topic table\n",
    "        print(\"creating topic table...\")\n",
    "        cursor.execute(\"\"\"CREATE TABLE IF NOT EXISTS topics (\n",
    "            id integer PRIMARY KEY,\n",
    "            title text,\n",
    "            description text,\n",
    "            start integer,\n",
    "            end integer,\n",
    "            query text,\n",
    "            type text\n",
    "        )\"\"\")\n",
    "    if techniques:\n",
    "        print(\"creating techniques table...\")\n",
    "        cursor.execute(\"\"\"CREATE TABLE IF NOT EXISTS techniques (\n",
    "            name text PRIMARY KEY,\n",
    "            description text\n",
    "        )\"\"\")\n",
    "    if instances:\n",
    "        print(\"creating instances table...\")\n",
    "        cursor.execute(\"\"\"CREATE TABLE IF NOT EXISTS instances (\n",
    "            instance integer PRIMARY KEY,\n",
    "            technique text,\n",
    "            temporal boolean,\n",
    "            start_exec datetime,\n",
    "            end_exec datetime,\n",
    "            FOREIGN KEY (technique) REFERENCES techniques (name)\n",
    "        )\"\"\")\n",
    "    \n",
    "    if meta:\n",
    "        print(\"creating meta table...\")\n",
    "        # put many-many foreign key for contained nuggets\n",
    "        cursor.execute(\"\"\"CREATE TABLE IF NOT EXISTS meta (\n",
    "            topic_id integer,\n",
    "            instance integer,\n",
    "            summary text,\n",
    "            streamids text,\n",
    "            epoch_start integer,\n",
    "            epoch_end integer,\n",
    "            importance_score integer,\n",
    "            total_importance integer,\n",
    "            r1_precision real,\n",
    "            r1_recall real,\n",
    "            r1_fmeasure real,\n",
    "            has_updates boolean,\n",
    "            FOREIGN KEY (topic_id) REFERENCES topics (id),\n",
    "            FOREIGN KEY (instance) REFERENCES instances (instance),\n",
    "            PRIMARY KEY (instance, topic_id)\n",
    "        )\"\"\")\n",
    "    if updates:\n",
    "        print(\"creating updates table...\")\n",
    "        cursor.execute(\"\"\"CREATE TABLE IF NOT EXISTS updates (\n",
    "            instance integer,\n",
    "            topic_id integer,\n",
    "            technique text,\n",
    "            update_num integer,\n",
    "            cur_text text,\n",
    "            update_text text,\n",
    "            epoch_start integer,\n",
    "            epoch_end integer,\n",
    "            importance_score integer,\n",
    "            total_importance integer,\n",
    "            r1_precision real,\n",
    "            r1_recall real,\n",
    "            r1_fmeasure real,\n",
    "            FOREIGN KEY (instance) REFERENCES instances (instance),\n",
    "            FOREIGN KEY (topic_id) REFERENCES topics (id)\n",
    "            FOREIGN KEY (technique) REFERENCES techniques (name)\n",
    "            PRIMARY KEY (instance, topic_id, update_num)\n",
    "        )\"\"\")\n",
    "    if nuggets:\n",
    "        print(\"creating nuggets table...\")\n",
    "        cursor.execute(\"\"\"CREATE TABLE IF NOT EXISTS nuggets (\n",
    "            nugget_id text PRIMARY_KEY,\n",
    "            topic_id integer,\n",
    "            importance integer,\n",
    "            nugget_text text,\n",
    "            FOREIGN KEY (topic_id) REFERENCES topics (id)\n",
    "        )\"\"\")\n",
    "        # create linking table for many-many relationship\n",
    "        print(\"creating linking nuggets table\")\n",
    "        cursor.execute(\"\"\"CREATE TABLE IF NOT EXISTS nugget_instances (\n",
    "            nugget_id text,\n",
    "            topic_id integer,\n",
    "            instance integer,\n",
    "            technique text,\n",
    "            update_num integer,\n",
    "            is_update boolean,\n",
    "            is_complete_summary boolean,\n",
    "            found boolean,\n",
    "            FOREIGN KEY (nugget_id) REFERENCES nuggets (nugget_id),\n",
    "            FOREIGN KEY (topic_id) REFERENCES topics (id),\n",
    "            FOREIGN KEY (instance) REFERENCES instances (instance),\n",
    "            FOREIGN KEY (technique) REFERENCES techniques (name),\n",
    "            FOREIGN KEY (update_num) REFERENCES updates (update_num)\n",
    "        )\"\"\")\n",
    "    print(\"committing changes\")\n",
    "    conn.commit()\n",
    "    print(\"committed\")\n",
    "#     conn.close()\n",
    "\n",
    "create_tables(db_path)"
   ]
  },
  {
   "cell_type": "markdown",
   "metadata": {},
   "source": [
    "## Pre-Populating Database"
   ]
  },
  {
   "cell_type": "code",
   "execution_count": 6,
   "metadata": {},
   "outputs": [],
   "source": [
    "def populate_topics(conn, cursor, topics_df):\n",
    "    # check if already populated\n",
    "    cursor.execute('SELECT COUNT(id) FROM topics')\n",
    "    rowcount = cursor.fetchone()[0]\n",
    "    if rowcount == 0:\n",
    "        cols = ['id', 'title', 'description', 'start', 'end', 'query', 'type']\n",
    "        entries = []\n",
    "        for index, row in topics_df.iterrows():\n",
    "            entry = []\n",
    "            for col in cols:\n",
    "                entry.append(row[col])\n",
    "            entries.append(entry)\n",
    "        cursor.executemany('insert into topics values (?,?,?,?,?,?,?)', entries)\n",
    "    else:\n",
    "        warnings.warn(\"The topics table already has entries\")\n",
    "    conn.commit()\n",
    "    print(\"populated topics\")"
   ]
  },
  {
   "cell_type": "code",
   "execution_count": null,
   "metadata": {},
   "outputs": [],
   "source": [
    "def populate_nuggets(conn, cursor, nugget_df):\n",
    "    cursor.execute('SELECT COUNT(nugget_id) FROM nuggets')\n",
    "    rowcount = cursor.fetchone()[0]\n",
    "    if rowcount == 0:\n",
    "        cols = ['nugget_id', 'topic_id', 'importance', 'nugget_text']\n",
    "        entries = []\n",
    "        for index, row in nugget_df.iterrows():\n",
    "            entry = []\n",
    "            for col in cols:\n",
    "                entry.append(row[col])\n",
    "            entries.append(entry)\n",
    "        cursor.executemany('insert into nuggets values (?,?,?,?)', entries)\n",
    "    else:\n",
    "        warnings.warn(\"The nuggets table already has entries\")\n",
    "    conn.commit()\n",
    "    print(\"populated nuggets\")"
   ]
  },
  {
   "cell_type": "markdown",
   "metadata": {},
   "source": [
    "## Insertions"
   ]
  },
  {
   "cell_type": "code",
   "execution_count": 5,
   "metadata": {},
   "outputs": [],
   "source": [
    "# def insert_"
   ]
  },
  {
   "cell_type": "code",
   "execution_count": null,
   "metadata": {},
   "outputs": [],
   "source": []
  }
 ],
 "metadata": {
  "kernelspec": {
   "display_name": "Python 3",
   "language": "python",
   "name": "python3"
  },
  "language_info": {
   "codemirror_mode": {
    "name": "ipython",
    "version": 3
   },
   "file_extension": ".py",
   "mimetype": "text/x-python",
   "name": "python",
   "nbconvert_exporter": "python",
   "pygments_lexer": "ipython3",
   "version": "3.6.8"
  }
 },
 "nbformat": 4,
 "nbformat_minor": 2
}
