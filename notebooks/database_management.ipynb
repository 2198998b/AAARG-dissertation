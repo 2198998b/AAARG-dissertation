{
 "cells": [
  {
   "cell_type": "markdown",
   "metadata": {},
   "source": [
    "# Database Management\n",
    "\n",
    "## Notebook for creating and editing database tables/entries"
   ]
  },
  {
   "cell_type": "code",
   "execution_count": 1,
   "metadata": {},
   "outputs": [],
   "source": [
    "import sqlite3\n",
    "\n",
    "db_dir = '/nfs/proj-repo/AAARG-dissertation'\n",
    "db_name = 'sumresults.db'\n",
    "db_path = db_dir + '/' + db_name"
   ]
  },
  {
   "cell_type": "code",
   "execution_count": null,
   "metadata": {},
   "outputs": [],
   "source": [
    "def get_connection(path=db_path):\n",
    "    conn = sqlite3.connect(path)  # creates db if doesn't exist\n",
    "    c = conn.cursor()\n",
    "    return conn, c"
   ]
  },
  {
   "cell_type": "code",
   "execution_count": 9,
   "metadata": {},
   "outputs": [
    {
     "name": "stdout",
     "output_type": "stream",
     "text": [
      "creating topic table...\n",
      "creating techniques table...\n",
      "creating instances table...\n",
      "creating meta table...\n",
      "creating updates table...\n",
      "creating nuggets table...\n",
      "creating linking nuggets table\n",
      "committing changes\n",
      "committed\n"
     ]
    }
   ],
   "source": [
    "def create_tables(topic=True, techniques=True, instances=True, nuggets=True, meta=True, updates=True):\n",
    "    conn, c = get_connection()\n",
    "    if topic: # create topic table\n",
    "        print(\"creating topic table...\")\n",
    "        c.execute(\"\"\"CREATE TABLE IF NOT EXISTS topics (\n",
    "            id integer PRIMARY KEY,\n",
    "            title text,\n",
    "            description text,\n",
    "            start integer,\n",
    "            end integer,\n",
    "            query text,\n",
    "            type text\n",
    "        )\"\"\")\n",
    "    if techniques:\n",
    "        print(\"creating techniques table...\")\n",
    "        c.execute(\"\"\"CREATE TABLE IF NOT EXISTS techniques (\n",
    "            name text NOT NULL,\n",
    "            description text\n",
    "        )\"\"\")\n",
    "    if instances:\n",
    "        print(\"creating instances table...\")\n",
    "        c.execute(\"\"\"CREATE TABLE IF NOT EXISTS instances (\n",
    "            instance integer PRIMARY KEY AUTOINCREMENT,\n",
    "            technique text,\n",
    "            temporal boolean,\n",
    "            start_exec datetime,\n",
    "            end_exec datetime,\n",
    "            FOREIGN KEY (technique) REFERENCES techniques (name)\n",
    "        )\"\"\")\n",
    "    \n",
    "    if meta:\n",
    "        print(\"creating meta table...\")\n",
    "        # put many-many foreign key for contained nuggets\n",
    "        c.execute(\"\"\"CREATE TABLE IF NOT EXISTS meta (\n",
    "            topic_id integer,\n",
    "            instance integer,\n",
    "            summary text,\n",
    "            streamids text,\n",
    "            epoch_start integer,\n",
    "            epoch_end integer,\n",
    "            has_updates boolean,\n",
    "            FOREIGN KEY (topic_id) REFERENCES topics (id),\n",
    "            FOREIGN KEY (instance) REFERENCES instances (instance),\n",
    "            PRIMARY KEY (instance, topic_id)\n",
    "        )\"\"\")\n",
    "    if updates:\n",
    "        print(\"creating updates table...\")\n",
    "        c.execute(\"\"\"CREATE TABLE IF NOT EXISTS updates (\n",
    "            instance integer,\n",
    "            topic_id integer,\n",
    "            technique text,\n",
    "            update_num integer,\n",
    "            cur_text text,\n",
    "            update_text text,\n",
    "            epoch_start integer,\n",
    "            epoch_end integer,\n",
    "            FOREIGN KEY (instance) REFERENCES instances (instance),\n",
    "            FOREIGN KEY (topic_id) REFERENCES topics (id)\n",
    "            FOREIGN KEY (technique) REFERENCES techniques (name)\n",
    "            PRIMARY KEY (instance, topic_id, update_num)\n",
    "        )\"\"\")\n",
    "    if nuggets:\n",
    "        print(\"creating nuggets table...\")\n",
    "        c.execute(\"\"\"CREATE TABLE IF NOT EXISTS nuggets (\n",
    "            nugget_id text PRIMARY_KEY,\n",
    "            topic_id integer,\n",
    "            importance integer,\n",
    "            nugget_text text,\n",
    "            FOREIGN KEY (topic_id) REFERENCES topics (id)\n",
    "        )\"\"\")\n",
    "        # create linking table for many-many relationship\n",
    "        print(\"creating linking nuggets table\")\n",
    "        c.execute(\"\"\"CREATE TABLE IF NOT EXISTS nugget_instances (\n",
    "            nugget_id text,\n",
    "            topic_id integer,\n",
    "            instance integer,\n",
    "            technique text,\n",
    "            update_num,\n",
    "            is_update boolean,\n",
    "            is_complete_summary boolean,\n",
    "            found boolean,\n",
    "            FOREIGN KEY (nugget_id) REFERENCES nuggets (nugget_id),\n",
    "            FOREIGN KEY (topic_id) REFERENCES topics (id),\n",
    "            FOREIGN KEY (instance) REFERENCES instances (instance),\n",
    "            FOREIGN KEY (technique) REFERENCES techniques (name),\n",
    "            FOREIGN KEY (update_num) REFERENCES updates (update_num)\n",
    "        )\"\"\")\n",
    "    print(\"committing changes\")\n",
    "    conn.commit()\n",
    "    print(\"committed\")\n",
    "    conn.close()\n",
    "\n",
    "create_tables()"
   ]
  },
  {
   "cell_type": "markdown",
   "metadata": {},
   "source": [
    "## Pre-Populating Database"
   ]
  },
  {
   "cell_type": "code",
   "execution_count": null,
   "metadata": {},
   "outputs": [],
   "source": [
    "def populate_topics(topics_df):\n",
    "    conn, c = get_connection()\n",
    "    cols = ['id', 'title', 'description', 'start', 'end', 'query', 'type']\n",
    "    entries = []\n",
    "    for index, row in topics_df.iterrows():\n",
    "        entry = []\n",
    "        for col in cols:\n",
    "            entry.append(row[col])\n",
    "        entries.append(entry)\n",
    "    \n",
    "    c.executemany('insert into topics values (?,?,?,?,?,?,?)', rows)\n",
    "    conn.commit()\n",
    "    conn.close()\n",
    "    print(\"added topics_df\")"
   ]
  },
  {
   "cell_type": "code",
   "execution_count": null,
   "metadata": {},
   "outputs": [],
   "source": [
    "# c.execute(\"\"\"CREATE TABLE results (\n",
    "#     topic_id integer,\n",
    "#     summary text\n",
    "# )\"\"\")"
   ]
  }
 ],
 "metadata": {
  "kernelspec": {
   "display_name": "Python 3",
   "language": "python",
   "name": "python3"
  },
  "language_info": {
   "codemirror_mode": {
    "name": "ipython",
    "version": 3
   },
   "file_extension": ".py",
   "mimetype": "text/x-python",
   "name": "python",
   "nbconvert_exporter": "python",
   "pygments_lexer": "ipython3",
   "version": "3.6.8"
  }
 },
 "nbformat": 4,
 "nbformat_minor": 2
}
