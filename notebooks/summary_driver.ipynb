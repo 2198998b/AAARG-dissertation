{
 "cells": [
  {
   "cell_type": "markdown",
   "metadata": {},
   "source": [
    "# Notebook for Generating Summaries"
   ]
  },
  {
   "cell_type": "code",
   "execution_count": 1,
   "metadata": {},
   "outputs": [],
   "source": [
    "# temp while cluster is full\n",
    "# !pip install keras-tuner"
   ]
  },
  {
   "cell_type": "code",
   "execution_count": 2,
   "metadata": {},
   "outputs": [],
   "source": [
    "import os\n",
    "num_threads = 32\n",
    "os.environ['NUMEXPR_MAX_THREADS'] = str(num_threads)\n",
    "\n",
    "import pandas as pd\n",
    "import numpy as np\n",
    "import pickle\n",
    "import copy\n",
    "from tqdm import tqdm\n",
    "from tqdm import tqdm_notebook\n",
    "from sentence_transformers import SentenceTransformer\n",
    "import ipynb.fs\n",
    "\n",
    "from sklearn.neighbors import KDTree\n",
    "\n",
    "import tensorflow as tf\n",
    "from tensorflow import keras\n",
    "from tensorflow.keras.models import Sequential\n",
    "from tensorflow.keras.layers import Dense\n",
    "from tensorflow.keras.layers import InputLayer\n",
    "from tensorflow.keras.layers import GRU\n",
    "from tensorflow.keras.layers import LSTM\n",
    "\n",
    "import kerastuner as kt\n",
    "from kerastuner.engine.hyperparameters import HyperParameters\n",
    "from kerastuner.tuners import Hyperband"
   ]
  },
  {
   "cell_type": "code",
   "execution_count": 3,
   "metadata": {},
   "outputs": [],
   "source": [
    "default_col_labels = ['cosine_similarity', 'cos_sim_nearest_nug']\n",
    "default_input_col = \"embedding\""
   ]
  },
  {
   "cell_type": "markdown",
   "metadata": {},
   "source": [
    "## Keras NN Model"
   ]
  },
  {
   "cell_type": "code",
   "execution_count": 4,
   "metadata": {},
   "outputs": [],
   "source": [
    "class NNTuner:\n",
    "    def __init__(self, save_dir, save_name, input_dim=768, tuning_iterations=50, force_reload=False):\n",
    "        \"\"\"Can save using project_name param, if overwrite false then will reload where it started\n",
    "        In Tuner Class documentation\n",
    "        \"\"\"\n",
    "        self.input_dim = input_dim\n",
    "        self.models = []\n",
    "        self.tuner = Hyperband(self.build_model, \n",
    "                          objective='mean_squared_error', \n",
    "                          max_epochs=25,\n",
    "                          hyperband_iterations=tuning_iterations,\n",
    "                          directory=save_dir,\n",
    "                          project_name=save_name,\n",
    "                          overwrite=force_reload)\n",
    "        \n",
    "    def build_model(self, hp):\n",
    "        model = Sequential()\n",
    "        ilayer = InputLayer(input_shape=(self.input_dim,))\n",
    "        model.add(ilayer)\n",
    "        for i in range(hp.Int('num_layers', min_value=1, max_value=4)):\n",
    "            model.add(Dense(units=hp.Int('units_' + str(i),\n",
    "                                        min_value=1, max_value=1024, step=32),\n",
    "                            activation=hp.Choice('activ_' + str(i),\n",
    "                                                ['relu', 'tanh', 'sigmoid'])))\n",
    "        opt = tf.keras.optimizers.Adam(\n",
    "                learning_rate=hp.Float('learning_rate', min_value=0.00001, max_value=0.1))           \n",
    "        losses = hp.Choice('loss_func', ['MSE', 'huber', 'binary_crossentropy', 'categorical_crossentropy'])\n",
    "        model.compile(optimizer=opt, loss=losses, metrics=['mean_squared_error'])  # add metrics here\n",
    "        self.models.append(model)\n",
    "        return model\n",
    "    \n",
    "    def search(self, inputs, labels, save_path=None, return_hyperparams=False):\n",
    "        \"\"\"Find optimal model given dataset\n",
    "        \"\"\"\n",
    "        self.tuner.search(x=inputs, y=labels, verbose=1, use_multiprocessing=True, workers=num_threads)\n",
    "        best_model = self.tuner.get_best_models(num_models=1)\n",
    "        if save_path is not None:\n",
    "            tf.keras.save(save_path)\n",
    "        if return_hyperparams:\n",
    "            hyperparams = self.tuner.get_best_hyperparameters(num_trials=1)\n",
    "            return best_model, hyperparams\n",
    "        return best_model\n",
    "        "
   ]
  },
  {
   "cell_type": "markdown",
   "metadata": {},
   "source": [
    "## Feeding the Dataset"
   ]
  },
  {
   "cell_type": "code",
   "execution_count": 5,
   "metadata": {},
   "outputs": [],
   "source": [
    "from .defs.corpus_loader import PathRetriever, load_embeddings, load_topics, read_df_file_type, save_df_file_type\n",
    "from .defs.corpus_loader import convert_to_list"
   ]
  },
  {
   "cell_type": "code",
   "execution_count": 12,
   "metadata": {},
   "outputs": [],
   "source": [
    "def resolve_input_params(path_ret, corpus_names, nested_dirs, col_labels, input_col=None):\n",
    "    \"\"\"Helper function to resolve the selection of input params that determine what data to load/generate\"\"\"\n",
    "    # resolve corpus_names\n",
    "    if corpus_names is None:\n",
    "        corpus_names = path_ret.get_corpus_names()\n",
    "        if len(corpus_names) == 0:\n",
    "            raise Exception(\"There are no corpuses to load from\")\n",
    "    # resolve col_labels\n",
    "    if col_labels is None:  # our columns to generate files for\n",
    "        col_labels = default_col_labels.copy()\n",
    "        if input_col is not None:\n",
    "            col_labels.append(input_col)\n",
    "    # resolve nested_dirs\n",
    "    if type(nested_dirs) != dict:  # if output gets passed through again\n",
    "        nested_dict = {}\n",
    "        for corpus_name in corpus_names:  # get the nested dir for each corpus name\n",
    "            nested_dict[corpus_name] = path_ret.get_nested_dirs(corpus_name, \"embeddings\")\n",
    "            if nested_dirs is not None:\n",
    "                # add only selected nested_dirs for this corpus_name\n",
    "                nested_dict[corpus_name] = [x for x in nested_dict[corpus_name] if x in nested_dirs]\n",
    "        nested_dirs = nested_dict\n",
    "    # make sure there is at least one entry in nested_dict\n",
    "    empty_dirs = [len(x) == 0 for x in nested_dirs.values()]  # get if empty for each item\n",
    "    if all(empty_dirs):\n",
    "        raise Exception(\"There are no nested_dirs matching the selection\")\n",
    "    return corpus_names, nested_dirs, col_labels\n",
    "\n",
    "def corpus_name_topic_ids(corpus_name):\n",
    "    topic_path = self.path_ret.get_topic_path(corpus_name, verbose=False)\n",
    "    topic_df = load_topics(topic_path, verbose=False)\n",
    "    topic_ids = list(topic_df['id'].unique())\n",
    "    return topic_ids\n",
    "\n",
    "def find_combinations(path_df, corpus_names, nested_dirs, col_labels, add_topics=False, \n",
    "                      force_reload=False):\n",
    "    \"\"\"Find the combinations that have not been generated/trained already in path_df and return as tuple\"\"\"\n",
    "    topic_ids = {}\n",
    "    if add_topics:  # find topic_ids for each corpus\n",
    "        for corpus_name in corpus_names:\n",
    "            topic_ids[corpus_name] = corpus_name_topic_ids(corpus_name)\n",
    "    # get possible combinations\n",
    "    combinations = []\n",
    "    for corpus_name in corpus_names:\n",
    "        for nested_dir in nested_dirs[corpus_name]:\n",
    "            for col_label in col_labels:\n",
    "                combo_path = path_df[(path_df['corpus_name'] == corpus_name)\n",
    "                                    & (path_df['nested_dir'] == nested_dir)\n",
    "                                    & (path_df['col_label'] == col_label)]\n",
    "                if len(combo_path) == 0 or force_reload:\n",
    "                    combo = [corpus_name, nested_dir, col_label]\n",
    "                    if add_topics:  # add additional combination for each topic\n",
    "                        topic_combos = []\n",
    "                        for topic_id in topic_ids[corpus_name]:\n",
    "                            topic_path = combo_path[combo_path['topic_id'] == topic_id]\n",
    "                            if len(topic_path) == 0 or force_reload:\n",
    "                                topic_combo = copy.deepcopy(combo)\n",
    "                                topic_combo.append(topic_id)\n",
    "                                topic_combo = tuple(topic_combo)\n",
    "                                topic_combos.append(topic_combo)\n",
    "                        combinations.extend(topic_combos)\n",
    "                    else:\n",
    "                        combinations.append(tuple(combo))  # append without topic_id\n",
    "    return combinations"
   ]
  },
  {
   "cell_type": "code",
   "execution_count": 7,
   "metadata": {},
   "outputs": [],
   "source": [
    "class InputLabelHandler:\n",
    "    \"\"\"Class that will load and store an instance of the dataset to be fed to a model\"\"\"\n",
    "    def __init__(self, proj_dir=None, input_col_name=\"embedding\"):\n",
    "        if proj_dir is None:\n",
    "            self.proj_dir = '/nfs/proj-repo/AAARG-dissertation'\n",
    "        else:\n",
    "            self.proj_dir = proj_dir\n",
    "        self.default_file_type = \".hdf\"\n",
    "        self.path_ret = PathRetriever(proj_dir)\n",
    "        self.label_options = ['cosine_similarity', 'cos_sim_nearest_nug']\n",
    "        self.input_col_name = input_col_name\n",
    "#         self.default_test_topics = [1,2,3,4,5,6,8,9,10]\n",
    "        # label_path_df variables\n",
    "        self.label_path_df_dir = self.path_ret.path_handler.dataset_dir\n",
    "        self.label_path_df_path = os.path.join(self.label_path_df_dir, \"label_path_df.hdf\")\n",
    "        self.label_path_df_cols = ['corpus_name', 'nested_dir', 'topic_id', 'col_label', 'path']\n",
    "        \n",
    "        \n",
    "    def generate(self, corpus_names=None, nested_dirs=None, col_labels=None, emb_file_type=None,\n",
    "                               force_reload=False, verbose=True):\n",
    "        \"\"\"Generate easily loadable inputs/labels files to be fed to NN when needed\"\"\"\n",
    "        \n",
    "        self.label_path_df = self.load_label_path_df(verbose=verbose)\n",
    "        \n",
    "        corpus_names, nested_dirs, col_labels = resolve_input_params(self.path_ret, corpus_names,\n",
    "                                                                    nested_dirs, col_labels, input_col=\"embedding\")\n",
    "        \n",
    "        if emb_file_type is None:  # target file type to load from\n",
    "            emb_file_type = self.default_file_type\n",
    "        \n",
    "        if verbose:\n",
    "            print(\"Retrieving the following: \" + str(\", \".join(col_labels)))\n",
    "        \n",
    "        for corpus_name in tqdm_notebook(corpus_names):\n",
    "            if verbose:\n",
    "                print(\"Generating from corpus: \" + str(corpus_name))\n",
    "            # get topic_ids from topic_df\n",
    "            topic_path = self.path_ret.get_topic_path(corpus_name, verbose=False)\n",
    "            topic_df = load_topics(topic_path, verbose=False)\n",
    "            topic_ids = list(topic_df['id'].unique())\n",
    "            for nested_dir in tqdm_notebook(nested_dirs[corpus_name]):\n",
    "                if verbose:\n",
    "                    print(\"Using inputs from \" + str(nested_dir))\n",
    "                for topic_id in tqdm_notebook(topic_ids):\n",
    "                    untrained_cols = []\n",
    "                    if not force_reload:\n",
    "                        trained_cols = self.label_path_df\n",
    "                        trained_cols = trained_cols[(trained_cols['corpus_name'] == corpus_name)\n",
    "                                                   & (trained_cols['nested_dir'] == nested_dir)\n",
    "                                                   & (trained_cols['topic_id'] == topic_id)]\n",
    "                        trained_cols = list(trained_cols['col_label'])\n",
    "                        # find untrained cols\n",
    "                        untrained_cols = [x for x in col_labels if x not in trained_cols]\n",
    "                    else:\n",
    "                        untrained_cols = col_labels  # if force_reload train all\n",
    "                    \n",
    "                    if len(untrained_cols) > 0:\n",
    "                    \n",
    "                        emb_paths, nested_dir_path = self.path_ret.get_embedding_paths(corpus_name, nested_dir, \n",
    "                                                        file_type=emb_file_type, verbose=False, \n",
    "                                                        return_dir_path=True, topic_ids=[topic_id])\n",
    "                        if len(emb_paths) == 0:\n",
    "                            raise Exception(\"No paths for \" + str(corpus_name) + \", \" + str(nested_dir) + \", \"\n",
    "                                           + str(emb_file_type) + \", topic_id: \" + str(topic_id))\n",
    "\n",
    "                        # load labels and save to pickled file\n",
    "                        save_paths = {}\n",
    "                        for col_label in untrained_cols:\n",
    "                            save_paths[col_label] = self.generate_path(nested_dir_path, topic_id, col_label)\n",
    "                        # find which labels do not currently have files (or force reload them)\n",
    "#                         target_labels = []\n",
    "#                         for col_label, save_path in save_paths.items():\n",
    "#                             if force_reload or not os.path.exists(save_path):  # force_reload will add all\n",
    "#                                 target_labels.append(col_label)\n",
    "                        # load the selected labels\n",
    "                        loaded_labels = self.retrieve_col_data(emb_paths, untrained_cols, verbose=verbose)\n",
    "                        # save the results to separate files\n",
    "                        for label, label_data in loaded_labels.items():\n",
    "                            label_path = save_paths[label]\n",
    "                            with open(label_path, 'wb') as handle:\n",
    "                                pickle.dump(label_data, handle, protocol=pickle.HIGHEST_PROTOCOL)\n",
    "                            # save path in label_path_df to keep track of saved files\n",
    "                            self.add_path_to_df(corpus_name, nested_dir, topic_id, label, label_path)\n",
    "                            if verbose:\n",
    "                                print(\"File saved to: \" + str(label_path))\n",
    "                        self.save_label_path_df()\n",
    "                    else:\n",
    "                        if verbose:\n",
    "                            print(\"full trained for topic \" + str(topic_id) + \": \" + str(col_labels))\n",
    "        print(\"Generated inputs and labels\")\n",
    "        \n",
    "    def load(self, corpus_name, nested_dir, col_label, topic_ids=None, verbose=True):\n",
    "        \"\"\"Load selected generated input/label\n",
    "        \n",
    "        Return:\n",
    "            dict where keys are equal to topic_ids, values equal to a list of the input/label data\n",
    "        \"\"\"\n",
    "        paths = self.label_path_df\n",
    "        paths = paths[paths['corpus_name'] == corpus_name & paths['nested_dir'] == nested_dir\n",
    "                     & paths['col_label'] == col_label]\n",
    "        if topic_ids is not None:  # otherwise load all\n",
    "            for topic_id in topic_ids:  # issues with .isin method, using iterative for loop instead\n",
    "                paths = paths[paths['topic_id'] == topic_id]  \n",
    "        if len(paths) == 0:\n",
    "            raise Exception(\"There are no paths to load the selected inputs/labels\")\n",
    "        \n",
    "        loaded_data = {}\n",
    "        for index, row in paths.iterrows():\n",
    "            save_path = row['path']\n",
    "            if not os.path.exists(save_path):\n",
    "                raise Exception(\"Generated \" + str(col_label) + \" for \" + str(corpus_name) \n",
    "                                + \", \" + str(nested_dir) + \" does not exist at: \" + str(save_path))\n",
    "            topic_data = None\n",
    "            with open(save_path, 'rb') as handle:\n",
    "                topic_data = pickle.load(handle)\n",
    "            \n",
    "            topic_id = int(row['topic_id'])\n",
    "            topic_ids.append(topic_id)  # for verbose printing\n",
    "            loaded_data[topic_id] = topic_data\n",
    "        \n",
    "        if verbose:\n",
    "            print(\"Loaded \" + str(col_label) + \" for \" + str(corpus_name) \n",
    "                                + \", \" + str(nested_dir) + \"\\ntopic_ids loaded: \" + str(topic_ids))\n",
    "        return loaded_data\n",
    "    \n",
    "    def corpus_topic_ids(self, corpus_name):\n",
    "        \"\"\"Num topics for given corpus_name\"\"\"\n",
    "        topic_ids = list(self.label_path_df[self.label_path_df['corpus_name'] == corpus_name]['topic_id'].unique())\n",
    "        return topic_ids\n",
    "\n",
    "                        \n",
    "    def load_label_path_df(self, verbose=True):\n",
    "        label_path_df = None\n",
    "        if verbose:\n",
    "            print(\"Loading label_path_df\")\n",
    "        if os.path.exists(self.label_path_df_path):\n",
    "            label_path_df = read_df_file_type(self.label_path_df_path, verbose=True)\n",
    "        else:\n",
    "            label_path_df = pd.DataFrame(columns=self.label_path_df_cols)\n",
    "            if verbose:\n",
    "                print(\"label_path_df created from scratch\")\n",
    "        return label_path_df\n",
    "    \n",
    "    def add_path_to_df(self, corpus_name, nested_dir, topic_id, col_label, path):\n",
    "        row = {\"corpus_name\":corpus_name, \"nested_dir\":nested_dir, \"topic_id\":topic_id, \n",
    "               \"col_label\":col_label, \"path\":path}\n",
    "        self.label_path_df = self.label_path_df.append(row, ignore_index=True)\n",
    "        \n",
    "    def save_label_path_df(self):\n",
    "        save_df_file_type(self.label_path_df, self.label_path_df_path, verbose=False)\n",
    "                \n",
    "    def retrieve_col_data(self, emb_paths, col_labels, verbose=True):\n",
    "        # setup return variables\n",
    "        labels = {}\n",
    "        for col_label in col_labels:\n",
    "            labels[col_label] = []\n",
    "        # search through paths for labels\n",
    "        pbar = None\n",
    "        if verbose:\n",
    "            pbar = tqdm_notebook(total=len(emb_paths))\n",
    "        for emb_path in emb_paths['path']:\n",
    "            emb_df = load_embeddings(emb_path, verbose=False)\n",
    "            for col_label in col_labels:\n",
    "                if col_label not in emb_df.columns:\n",
    "                    raise ValueError(\"Target label \" + str(col_label) + \" is not in file at \" + str(emb_path))\n",
    "                # collect label values from df\n",
    "                labs = list(emb_df[col_label])\n",
    "                # put scalars in numpy arrays to fit keras output format\n",
    "                for item in labs:\n",
    "                    if np.isscalar(item):\n",
    "                        item = np.array(item)\n",
    "                labels[col_label].extend(labs)\n",
    "            if verbose:\n",
    "                pbar.update()\n",
    "        return labels\n",
    "    \n",
    "    def generate_path(self, nested_dir_path, topic_id, col_label):\n",
    "        filename = str(topic_id) + '_' + str(col_label) + \".pickle\"  # e.g. 1_embeddings.pickle\n",
    "        path = os.path.join(nested_dir_path, filename)\n",
    "        return path"
   ]
  },
  {
   "cell_type": "code",
   "execution_count": null,
   "metadata": {},
   "outputs": [],
   "source": []
  },
  {
   "cell_type": "code",
   "execution_count": 8,
   "metadata": {},
   "outputs": [],
   "source": []
  },
  {
   "cell_type": "code",
   "execution_count": 9,
   "metadata": {},
   "outputs": [],
   "source": [
    "class NNTrainer:\n",
    "    def __init__(self, proj_dir=None, nn_base_save_dir_name=None):\n",
    "        if proj_dir is None:\n",
    "            self.proj_dir = '/nfs/proj-repo/AAARG-dissertation'\n",
    "        else:\n",
    "            self.proj_dir = proj_dir\n",
    "        self.input_handler = InputLabelHandler(self.proj_dir)\n",
    "        self.nn_base_save_dir_name = nn_base_save_dir_name\n",
    "        if self.nn_base_save_dir_name is None:\n",
    "            self.nn_base_save_dir_name = \"summarization_models\"\n",
    "        self.nn_base_save_dir_path = os.path.join(self.proj_dir, self.nn_base_save_dir_name)\n",
    "        self.nn_path_df_name = \"nn_path_df.hdf\"\n",
    "        self.nn_path_df_path = os.path.join(self.nn_base_save_dir_path, self.nn_path_df_name)\n",
    "        self.nn_path_df_cols = ['corpus_name', 'nested_dir', 'col_label', 'dir_path']\n",
    "        self.default_test_topics = [1,2,3,4,5,6,8,9,10]\n",
    "    \n",
    "    def train(self, corpus_names=None, nested_dirs=None, col_labels=None, tuning_iterations=100,\n",
    "              train_topics = None, test_topics=None, input_col_name=\"embedding\", force_reload=False, verbose=True):\n",
    "        \"\"\"\n",
    "        1. Generate Data if needed\n",
    "        2. Determine combinations to try\n",
    "        3. Load combination\n",
    "        4. Train network on it\n",
    "        5. Generate summary on test topics\n",
    "        5. Save tuned network, metrics, database entries\n",
    "        \n",
    "        \"\"\"\n",
    "        if test_topics is None:  # determine what topics to test on (rest is for training)\n",
    "            test_topics = self.default_test_topics\n",
    "            \n",
    "        self.nn_path_df = self.load_nn_path_df(verbose=verbose)\n",
    "        \n",
    "        # generate data\n",
    "        self.input_handler.generate(corpus_names=corpus_names, nested_dirs=nested_dirs, col_labels=col_labels,\n",
    "                                   force_reload=force_reload, verbose=verbose)\n",
    "        \n",
    "        # get our dataset identifiers, used to load correct inputs/labels\n",
    "        corpus_names, nested_dirs, col_labels = resolve_input_params(self.input_handler.path_ret,\n",
    "                                                                     corpus_names, nested_dirs, col_labels,\n",
    "                                                                    add_input_col=False)\n",
    "        \n",
    "        # load combination, train network\n",
    "        for corpus_name in corpus_names:\n",
    "            print(\"Training for corpus: \" + str(corpus_name))\n",
    "            for nested_dir in tqdm_notebook(nested_dirs):\n",
    "                # check what col_labels for this nested_dir and corpus_name already trained\n",
    "                untrained_cols = []\n",
    "                if not force_reload:\n",
    "                    trained_cols = self.nn_path_df\n",
    "                    trained_cols = trained_cols[(trained_cols['corpus_name'] == corpus_name)\n",
    "                                               & (trained_cols['nested_dir'] == nested_dir)]\n",
    "                    trained_cols = list(trained_cols['col_label'])\n",
    "                    # find untrained cols\n",
    "                    untrained_cols = [x for x in col_labels if x not in trained_cols]\n",
    "                else:\n",
    "                    untrained_cols = col_labels  # if force_reload train all\n",
    "\n",
    "                if len(untrained_cols) > 0:\n",
    "                    # load inputs\n",
    "                    if verbose:\n",
    "                        print(\"Training neural networks on the following labels: \" + str(untrained_cols))\n",
    "                    topic_ids = self.input_handler.corpus_topic_ids(corpus_name)\n",
    "                    if train_topics is None:  # then set train_topics to all not in test_topics\n",
    "                        train_topics = [x for x in topic_ids if x not in test_topics]\n",
    "                    X_input = self.input_handler.load(corpus_name, nested_dir, input_col_name, \n",
    "                                                      topic_ids=train_topics, verbose=verbose)\n",
    "                    input_dim = len(X_input[0])\n",
    "                    print(\"Training on nested_dir/emb_type: \" + str(nested_dir))\n",
    "                    \n",
    "                    # train/tune a keras network with selected col_label\n",
    "                    for col_label in tqdm_notebooks(untrained_cols):\n",
    "                        print(\"Training on label type: \" + str(col_label))\n",
    "                        \"\"\"\n",
    "                        Add check here if not force_reload load pretrained model\n",
    "                        Maybe some check if already generated summaries?\n",
    "                        Exists column for partially trained networks? As in load before?\n",
    "\n",
    "                        NOTE: Currently loading X and y full topic_ids, mistake\n",
    "\n",
    "                        \"\"\"\n",
    "                        # load labels\n",
    "                        y_label = self.input_handler.load(corpus_name, nested_dir, col_label,\n",
    "                                                          topic_ids=train_topics, verbose=verbose)\n",
    "\n",
    "                        save_dir, save_name = self.generate_nn_save_path(corpus_name, nested_dir, col_label,\n",
    "                                                                        create_dir=True)\n",
    "                        # generate optimised neural network\n",
    "                        tuner = NNTuner(save_dir, save_name, tuning_iterations=tuning_iterations, \n",
    "                                        input_dim=input_dim, force_reload=force_reload)\n",
    "\n",
    "                        best_model_path = os.paths.join(save_dir, \"best_model\")\n",
    "                        best_model, best_hyperparams = tuner.search(X_input, y_labels, save_path=best_model_path, \n",
    "                                     return_hyperparams=True)\n",
    "\n",
    "                        self.add_path_to_nn_path_df(corpus_name, nested_dir, input_col_name, col_label, save_dir,\n",
    "                                                   save_name, best_hyperparams, best_model_path, verbose=verbose)\n",
    "                else:\n",
    "                    if verbose:\n",
    "                        print(\"All target columns trained for \" + str(nested_dir) + \", \" + str(corpus_name))\n",
    "    \n",
    "    def load_nn_path_df(self, verbose=True):\n",
    "        if os.path.exists(self.nn_path_df_path):\n",
    "            nn_path_df = read_df_file_type(self.nn_path_df, verbose=verbose)\n",
    "        else:\n",
    "            nn_path_df = pd.DataFrame(columns=self.nn_path_df_cols)\n",
    "            if verbose:\n",
    "                print(\"nn_path_df created from scratch\")\n",
    "        return nn_path_df\n",
    "    \n",
    "    def add_to_nn_path_df(self, corpus_name, nested_dir, input_col_name, label_col_name, tuner_dir, tuner_name,\n",
    "                          best_hyperparams, best_model_path, verbose=True):\n",
    "        row = {\"corpus_name\":corpus_name, \"nested_dir\":nested_dir, \"input_col_name\":input_col_name,\n",
    "              \"label_col_names\":label_col_name, \"tuner_dir\":tuner_dir, \"tuner_name\":tuner_name,\n",
    "              \"best_hyperparams\":best_hyperparams, \"best_model_path\":best_model_path}\n",
    "        \n",
    "        self.nn_path_df = self.nn_path_df.append(row, ignore_index=True)\n",
    "        save_df_file_type(self.nn_path_df, self.nn_path_df_path, verbose=verbose)\n",
    "    \n",
    "    def generate_nn_save_path(self, corpus_name, nested_dir, col_labels, create_dir=True):\n",
    "        col_dir = \"_\".join(convert_to_list(col_labels))\n",
    "        dir_list = [nn_base_save_dir_path, corpus_name, nested_dir, col_dir]\n",
    "        # combine directories to form path of subdirectories, create dirs if necessary\n",
    "        dir_path = None\n",
    "        for cur_dir in dir_list:\n",
    "            if dir_path is None:  # first iteration\n",
    "                dir_path = dir_list[0]\n",
    "            else:\n",
    "                dir_path = os.paths.join(dir_path, cur_dir)\n",
    "            if not os.path.exists(dir_path) and create_dir:\n",
    "                os.makedirs(dir_path)\n",
    "        # generate name\n",
    "        save_name = \"tuner_proj\"\n",
    "        return dir_path, save_name"
   ]
  },
  {
   "cell_type": "code",
   "execution_count": 10,
   "metadata": {},
   "outputs": [
    {
     "name": "stdout",
     "output_type": "stream",
     "text": [
      "nn_path_df created from scratch\n",
      "Loading label_path_df\n",
      "loaded from .hdf file\n",
      "Retrieving the following: cosine_similarity, cos_sim_nearest_nug, embedding\n"
     ]
    },
    {
     "data": {
      "application/vnd.jupyter.widget-view+json": {
       "model_id": "ecd3e8bb221f49f29a8ea552a4a23593",
       "version_major": 2,
       "version_minor": 0
      },
      "text/plain": [
       "HBox(children=(IntProgress(value=0, max=1), HTML(value='')))"
      ]
     },
     "metadata": {},
     "output_type": "display_data"
    },
    {
     "name": "stdout",
     "output_type": "stream",
     "text": [
      "Generating from corpus: mine-trects-kba2014-filtered\n"
     ]
    },
    {
     "data": {
      "application/vnd.jupyter.widget-view+json": {
       "model_id": "1034ab2382e640b58523182445ac01d8",
       "version_major": 2,
       "version_minor": 0
      },
      "text/plain": [
       "HBox(children=(IntProgress(value=0, max=2), HTML(value='')))"
      ]
     },
     "metadata": {},
     "output_type": "display_data"
    },
    {
     "name": "stdout",
     "output_type": "stream",
     "text": [
      "Using inputs from distilbert-base-nli-stsb-mean-tokens\n"
     ]
    },
    {
     "data": {
      "application/vnd.jupyter.widget-view+json": {
       "model_id": "87af4131151b45d1ab7137fce866e1c0",
       "version_major": 2,
       "version_minor": 0
      },
      "text/plain": [
       "HBox(children=(IntProgress(value=0, max=45), HTML(value='')))"
      ]
     },
     "metadata": {},
     "output_type": "display_data"
    },
    {
     "name": "stdout",
     "output_type": "stream",
     "text": [
      "full trained for topic 1: ['cosine_similarity', 'cos_sim_nearest_nug', 'embedding']\n",
      "full trained for topic 2: ['cosine_similarity', 'cos_sim_nearest_nug', 'embedding']\n",
      "full trained for topic 3: ['cosine_similarity', 'cos_sim_nearest_nug', 'embedding']\n",
      "full trained for topic 4: ['cosine_similarity', 'cos_sim_nearest_nug', 'embedding']\n",
      "full trained for topic 5: ['cosine_similarity', 'cos_sim_nearest_nug', 'embedding']\n",
      "full trained for topic 6: ['cosine_similarity', 'cos_sim_nearest_nug', 'embedding']\n",
      "full trained for topic 8: ['cosine_similarity', 'cos_sim_nearest_nug', 'embedding']\n",
      "full trained for topic 9: ['cosine_similarity', 'cos_sim_nearest_nug', 'embedding']\n",
      "full trained for topic 10: ['cosine_similarity', 'cos_sim_nearest_nug', 'embedding']\n",
      "full trained for topic 11: ['cosine_similarity', 'cos_sim_nearest_nug', 'embedding']\n",
      "full trained for topic 12: ['cosine_similarity', 'cos_sim_nearest_nug', 'embedding']\n",
      "full trained for topic 13: ['cosine_similarity', 'cos_sim_nearest_nug', 'embedding']\n",
      "full trained for topic 14: ['cosine_similarity', 'cos_sim_nearest_nug', 'embedding']\n",
      "full trained for topic 15: ['cosine_similarity', 'cos_sim_nearest_nug', 'embedding']\n",
      "full trained for topic 16: ['cosine_similarity', 'cos_sim_nearest_nug', 'embedding']\n",
      "full trained for topic 17: ['cosine_similarity', 'cos_sim_nearest_nug', 'embedding']\n",
      "full trained for topic 18: ['cosine_similarity', 'cos_sim_nearest_nug', 'embedding']\n",
      "full trained for topic 19: ['cosine_similarity', 'cos_sim_nearest_nug', 'embedding']\n",
      "full trained for topic 20: ['cosine_similarity', 'cos_sim_nearest_nug', 'embedding']\n",
      "full trained for topic 21: ['cosine_similarity', 'cos_sim_nearest_nug', 'embedding']\n",
      "full trained for topic 22: ['cosine_similarity', 'cos_sim_nearest_nug', 'embedding']\n"
     ]
    },
    {
     "data": {
      "application/vnd.jupyter.widget-view+json": {
       "model_id": "7badc00d302b4c8a8537ff15fe1404d6",
       "version_major": 2,
       "version_minor": 0
      },
      "text/plain": [
       "HBox(children=(IntProgress(value=0, max=66), HTML(value='')))"
      ]
     },
     "metadata": {},
     "output_type": "display_data"
    },
    {
     "name": "stdout",
     "output_type": "stream",
     "text": [
      "File saved to: /nfs/proj-repo/AAARG-dissertation/dataset/mine-trects-kba2014-filtered/embeddings/distilbert-base-nli-stsb-mean-tokens/23_cosine_similarity.pickle\n",
      "File saved to: /nfs/proj-repo/AAARG-dissertation/dataset/mine-trects-kba2014-filtered/embeddings/distilbert-base-nli-stsb-mean-tokens/23_cos_sim_nearest_nug.pickle\n",
      "File saved to: /nfs/proj-repo/AAARG-dissertation/dataset/mine-trects-kba2014-filtered/embeddings/distilbert-base-nli-stsb-mean-tokens/23_embedding.pickle\n"
     ]
    },
    {
     "name": "stderr",
     "output_type": "stream",
     "text": [
      "/usr/local/lib/python3.6/dist-packages/pandas/core/generic.py:2504: PerformanceWarning: \n",
      "your performance may suffer as PyTables will pickle object types that it cannot\n",
      "map directly to c-types [inferred_type->mixed-integer,key->block0_values] [items->Index(['corpus_name', 'nested_dir', 'topic_id', 'col_label', 'path'], dtype='object')]\n",
      "\n",
      "  encoding=encoding,\n"
     ]
    },
    {
     "data": {
      "application/vnd.jupyter.widget-view+json": {
       "model_id": "93d1687ab4b747b19123a94a09b126a2",
       "version_major": 2,
       "version_minor": 0
      },
      "text/plain": [
       "HBox(children=(IntProgress(value=0, max=55), HTML(value='')))"
      ]
     },
     "metadata": {},
     "output_type": "display_data"
    },
    {
     "name": "stdout",
     "output_type": "stream",
     "text": [
      "File saved to: /nfs/proj-repo/AAARG-dissertation/dataset/mine-trects-kba2014-filtered/embeddings/distilbert-base-nli-stsb-mean-tokens/24_cosine_similarity.pickle\n",
      "File saved to: /nfs/proj-repo/AAARG-dissertation/dataset/mine-trects-kba2014-filtered/embeddings/distilbert-base-nli-stsb-mean-tokens/24_cos_sim_nearest_nug.pickle\n",
      "File saved to: /nfs/proj-repo/AAARG-dissertation/dataset/mine-trects-kba2014-filtered/embeddings/distilbert-base-nli-stsb-mean-tokens/24_embedding.pickle\n"
     ]
    },
    {
     "data": {
      "application/vnd.jupyter.widget-view+json": {
       "model_id": "c19aed9acc4844e58c13a0e9301d8d2a",
       "version_major": 2,
       "version_minor": 0
      },
      "text/plain": [
       "HBox(children=(IntProgress(value=0, max=25), HTML(value='')))"
      ]
     },
     "metadata": {},
     "output_type": "display_data"
    },
    {
     "name": "stdout",
     "output_type": "stream",
     "text": [
      "File saved to: /nfs/proj-repo/AAARG-dissertation/dataset/mine-trects-kba2014-filtered/embeddings/distilbert-base-nli-stsb-mean-tokens/25_cosine_similarity.pickle\n",
      "File saved to: /nfs/proj-repo/AAARG-dissertation/dataset/mine-trects-kba2014-filtered/embeddings/distilbert-base-nli-stsb-mean-tokens/25_cos_sim_nearest_nug.pickle\n",
      "File saved to: /nfs/proj-repo/AAARG-dissertation/dataset/mine-trects-kba2014-filtered/embeddings/distilbert-base-nli-stsb-mean-tokens/25_embedding.pickle\n"
     ]
    },
    {
     "data": {
      "application/vnd.jupyter.widget-view+json": {
       "model_id": "37d8d6e2c07c4eadb5a6bd103a205b5a",
       "version_major": 2,
       "version_minor": 0
      },
      "text/plain": [
       "HBox(children=(IntProgress(value=0, max=49), HTML(value='')))"
      ]
     },
     "metadata": {},
     "output_type": "display_data"
    },
    {
     "name": "stdout",
     "output_type": "stream",
     "text": [
      "File saved to: /nfs/proj-repo/AAARG-dissertation/dataset/mine-trects-kba2014-filtered/embeddings/distilbert-base-nli-stsb-mean-tokens/26_cosine_similarity.pickle\n",
      "File saved to: /nfs/proj-repo/AAARG-dissertation/dataset/mine-trects-kba2014-filtered/embeddings/distilbert-base-nli-stsb-mean-tokens/26_cos_sim_nearest_nug.pickle\n",
      "File saved to: /nfs/proj-repo/AAARG-dissertation/dataset/mine-trects-kba2014-filtered/embeddings/distilbert-base-nli-stsb-mean-tokens/26_embedding.pickle\n"
     ]
    },
    {
     "data": {
      "application/vnd.jupyter.widget-view+json": {
       "model_id": "a867b89cbd01455eb3bfbef33f787657",
       "version_major": 2,
       "version_minor": 0
      },
      "text/plain": [
       "HBox(children=(IntProgress(value=0, max=6), HTML(value='')))"
      ]
     },
     "metadata": {},
     "output_type": "display_data"
    },
    {
     "name": "stdout",
     "output_type": "stream",
     "text": [
      "File saved to: /nfs/proj-repo/AAARG-dissertation/dataset/mine-trects-kba2014-filtered/embeddings/distilbert-base-nli-stsb-mean-tokens/27_cosine_similarity.pickle\n",
      "File saved to: /nfs/proj-repo/AAARG-dissertation/dataset/mine-trects-kba2014-filtered/embeddings/distilbert-base-nli-stsb-mean-tokens/27_cos_sim_nearest_nug.pickle\n",
      "File saved to: /nfs/proj-repo/AAARG-dissertation/dataset/mine-trects-kba2014-filtered/embeddings/distilbert-base-nli-stsb-mean-tokens/27_embedding.pickle\n"
     ]
    },
    {
     "data": {
      "application/vnd.jupyter.widget-view+json": {
       "model_id": "41a601f2013d49019b11626f70bcce48",
       "version_major": 2,
       "version_minor": 0
      },
      "text/plain": [
       "HBox(children=(IntProgress(value=0, max=5), HTML(value='')))"
      ]
     },
     "metadata": {},
     "output_type": "display_data"
    },
    {
     "name": "stdout",
     "output_type": "stream",
     "text": [
      "\n",
      "File saved to: /nfs/proj-repo/AAARG-dissertation/dataset/mine-trects-kba2014-filtered/embeddings/distilbert-base-nli-stsb-mean-tokens/28_cosine_similarity.pickle\n",
      "File saved to: /nfs/proj-repo/AAARG-dissertation/dataset/mine-trects-kba2014-filtered/embeddings/distilbert-base-nli-stsb-mean-tokens/28_cos_sim_nearest_nug.pickle\n",
      "File saved to: /nfs/proj-repo/AAARG-dissertation/dataset/mine-trects-kba2014-filtered/embeddings/distilbert-base-nli-stsb-mean-tokens/28_embedding.pickle\n"
     ]
    },
    {
     "data": {
      "application/vnd.jupyter.widget-view+json": {
       "model_id": "74c8235e97e84135a30b8f62468e3de9",
       "version_major": 2,
       "version_minor": 0
      },
      "text/plain": [
       "HBox(children=(IntProgress(value=0, max=6), HTML(value='')))"
      ]
     },
     "metadata": {},
     "output_type": "display_data"
    },
    {
     "name": "stdout",
     "output_type": "stream",
     "text": [
      "File saved to: /nfs/proj-repo/AAARG-dissertation/dataset/mine-trects-kba2014-filtered/embeddings/distilbert-base-nli-stsb-mean-tokens/29_cosine_similarity.pickle\n",
      "File saved to: /nfs/proj-repo/AAARG-dissertation/dataset/mine-trects-kba2014-filtered/embeddings/distilbert-base-nli-stsb-mean-tokens/29_cos_sim_nearest_nug.pickle\n",
      "File saved to: /nfs/proj-repo/AAARG-dissertation/dataset/mine-trects-kba2014-filtered/embeddings/distilbert-base-nli-stsb-mean-tokens/29_embedding.pickle\n"
     ]
    },
    {
     "data": {
      "application/vnd.jupyter.widget-view+json": {
       "model_id": "f0e0f3e6c6784c83a3127e6ba868873c",
       "version_major": 2,
       "version_minor": 0
      },
      "text/plain": [
       "HBox(children=(IntProgress(value=0, max=3), HTML(value='')))"
      ]
     },
     "metadata": {},
     "output_type": "display_data"
    },
    {
     "name": "stdout",
     "output_type": "stream",
     "text": [
      "\n",
      "File saved to: /nfs/proj-repo/AAARG-dissertation/dataset/mine-trects-kba2014-filtered/embeddings/distilbert-base-nli-stsb-mean-tokens/30_cosine_similarity.pickle\n",
      "File saved to: /nfs/proj-repo/AAARG-dissertation/dataset/mine-trects-kba2014-filtered/embeddings/distilbert-base-nli-stsb-mean-tokens/30_cos_sim_nearest_nug.pickle\n",
      "File saved to: /nfs/proj-repo/AAARG-dissertation/dataset/mine-trects-kba2014-filtered/embeddings/distilbert-base-nli-stsb-mean-tokens/30_embedding.pickle\n"
     ]
    },
    {
     "data": {
      "application/vnd.jupyter.widget-view+json": {
       "model_id": "036b844d9b23441eb390cba4416b54be",
       "version_major": 2,
       "version_minor": 0
      },
      "text/plain": [
       "HBox(children=(IntProgress(value=0, max=2), HTML(value='')))"
      ]
     },
     "metadata": {},
     "output_type": "display_data"
    },
    {
     "name": "stdout",
     "output_type": "stream",
     "text": [
      "\n",
      "File saved to: /nfs/proj-repo/AAARG-dissertation/dataset/mine-trects-kba2014-filtered/embeddings/distilbert-base-nli-stsb-mean-tokens/31_cosine_similarity.pickle\n",
      "File saved to: /nfs/proj-repo/AAARG-dissertation/dataset/mine-trects-kba2014-filtered/embeddings/distilbert-base-nli-stsb-mean-tokens/31_cos_sim_nearest_nug.pickle\n",
      "File saved to: /nfs/proj-repo/AAARG-dissertation/dataset/mine-trects-kba2014-filtered/embeddings/distilbert-base-nli-stsb-mean-tokens/31_embedding.pickle\n"
     ]
    },
    {
     "data": {
      "application/vnd.jupyter.widget-view+json": {
       "model_id": "498de7de79884dc8ba6e4c564d2679c7",
       "version_major": 2,
       "version_minor": 0
      },
      "text/plain": [
       "HBox(children=(IntProgress(value=0, max=10), HTML(value='')))"
      ]
     },
     "metadata": {},
     "output_type": "display_data"
    },
    {
     "name": "stdout",
     "output_type": "stream",
     "text": [
      "File saved to: /nfs/proj-repo/AAARG-dissertation/dataset/mine-trects-kba2014-filtered/embeddings/distilbert-base-nli-stsb-mean-tokens/32_cosine_similarity.pickle\n",
      "File saved to: /nfs/proj-repo/AAARG-dissertation/dataset/mine-trects-kba2014-filtered/embeddings/distilbert-base-nli-stsb-mean-tokens/32_cos_sim_nearest_nug.pickle\n",
      "File saved to: /nfs/proj-repo/AAARG-dissertation/dataset/mine-trects-kba2014-filtered/embeddings/distilbert-base-nli-stsb-mean-tokens/32_embedding.pickle\n"
     ]
    },
    {
     "data": {
      "application/vnd.jupyter.widget-view+json": {
       "model_id": "09b9f882c985447f930d8f0f41136446",
       "version_major": 2,
       "version_minor": 0
      },
      "text/plain": [
       "HBox(children=(IntProgress(value=0, max=24), HTML(value='')))"
      ]
     },
     "metadata": {},
     "output_type": "display_data"
    },
    {
     "name": "stdout",
     "output_type": "stream",
     "text": [
      "File saved to: /nfs/proj-repo/AAARG-dissertation/dataset/mine-trects-kba2014-filtered/embeddings/distilbert-base-nli-stsb-mean-tokens/33_cosine_similarity.pickle\n",
      "File saved to: /nfs/proj-repo/AAARG-dissertation/dataset/mine-trects-kba2014-filtered/embeddings/distilbert-base-nli-stsb-mean-tokens/33_cos_sim_nearest_nug.pickle\n",
      "File saved to: /nfs/proj-repo/AAARG-dissertation/dataset/mine-trects-kba2014-filtered/embeddings/distilbert-base-nli-stsb-mean-tokens/33_embedding.pickle\n"
     ]
    },
    {
     "data": {
      "application/vnd.jupyter.widget-view+json": {
       "model_id": "01ed1d09f4a24e19b85a2083adfa61d6",
       "version_major": 2,
       "version_minor": 0
      },
      "text/plain": [
       "HBox(children=(IntProgress(value=0, max=19), HTML(value='')))"
      ]
     },
     "metadata": {},
     "output_type": "display_data"
    },
    {
     "name": "stdout",
     "output_type": "stream",
     "text": [
      "File saved to: /nfs/proj-repo/AAARG-dissertation/dataset/mine-trects-kba2014-filtered/embeddings/distilbert-base-nli-stsb-mean-tokens/34_cosine_similarity.pickle\n",
      "File saved to: /nfs/proj-repo/AAARG-dissertation/dataset/mine-trects-kba2014-filtered/embeddings/distilbert-base-nli-stsb-mean-tokens/34_cos_sim_nearest_nug.pickle\n",
      "File saved to: /nfs/proj-repo/AAARG-dissertation/dataset/mine-trects-kba2014-filtered/embeddings/distilbert-base-nli-stsb-mean-tokens/34_embedding.pickle\n"
     ]
    },
    {
     "data": {
      "application/vnd.jupyter.widget-view+json": {
       "model_id": "204e345a87514db49895f5e511ac62e5",
       "version_major": 2,
       "version_minor": 0
      },
      "text/plain": [
       "HBox(children=(IntProgress(value=0, max=34), HTML(value='')))"
      ]
     },
     "metadata": {},
     "output_type": "display_data"
    },
    {
     "name": "stdout",
     "output_type": "stream",
     "text": [
      "File saved to: /nfs/proj-repo/AAARG-dissertation/dataset/mine-trects-kba2014-filtered/embeddings/distilbert-base-nli-stsb-mean-tokens/35_cosine_similarity.pickle\n",
      "File saved to: /nfs/proj-repo/AAARG-dissertation/dataset/mine-trects-kba2014-filtered/embeddings/distilbert-base-nli-stsb-mean-tokens/35_cos_sim_nearest_nug.pickle\n",
      "File saved to: /nfs/proj-repo/AAARG-dissertation/dataset/mine-trects-kba2014-filtered/embeddings/distilbert-base-nli-stsb-mean-tokens/35_embedding.pickle\n"
     ]
    },
    {
     "data": {
      "application/vnd.jupyter.widget-view+json": {
       "model_id": "48f78bf9757a43338b79cda5d731a8f6",
       "version_major": 2,
       "version_minor": 0
      },
      "text/plain": [
       "HBox(children=(IntProgress(value=0, max=3), HTML(value='')))"
      ]
     },
     "metadata": {},
     "output_type": "display_data"
    },
    {
     "name": "stdout",
     "output_type": "stream",
     "text": [
      "\n",
      "File saved to: /nfs/proj-repo/AAARG-dissertation/dataset/mine-trects-kba2014-filtered/embeddings/distilbert-base-nli-stsb-mean-tokens/36_cosine_similarity.pickle\n",
      "File saved to: /nfs/proj-repo/AAARG-dissertation/dataset/mine-trects-kba2014-filtered/embeddings/distilbert-base-nli-stsb-mean-tokens/36_cos_sim_nearest_nug.pickle\n",
      "File saved to: /nfs/proj-repo/AAARG-dissertation/dataset/mine-trects-kba2014-filtered/embeddings/distilbert-base-nli-stsb-mean-tokens/36_embedding.pickle\n"
     ]
    },
    {
     "data": {
      "application/vnd.jupyter.widget-view+json": {
       "model_id": "5131569944254957952c7835c4117557",
       "version_major": 2,
       "version_minor": 0
      },
      "text/plain": [
       "HBox(children=(IntProgress(value=0, max=5), HTML(value='')))"
      ]
     },
     "metadata": {},
     "output_type": "display_data"
    },
    {
     "name": "stdout",
     "output_type": "stream",
     "text": [
      "\n",
      "File saved to: /nfs/proj-repo/AAARG-dissertation/dataset/mine-trects-kba2014-filtered/embeddings/distilbert-base-nli-stsb-mean-tokens/37_cosine_similarity.pickle\n",
      "File saved to: /nfs/proj-repo/AAARG-dissertation/dataset/mine-trects-kba2014-filtered/embeddings/distilbert-base-nli-stsb-mean-tokens/37_cos_sim_nearest_nug.pickle\n",
      "File saved to: /nfs/proj-repo/AAARG-dissertation/dataset/mine-trects-kba2014-filtered/embeddings/distilbert-base-nli-stsb-mean-tokens/37_embedding.pickle\n"
     ]
    },
    {
     "data": {
      "application/vnd.jupyter.widget-view+json": {
       "model_id": "0e3c4ab5c3a8421eb6cc9d58117859f3",
       "version_major": 2,
       "version_minor": 0
      },
      "text/plain": [
       "HBox(children=(IntProgress(value=0, max=4), HTML(value='')))"
      ]
     },
     "metadata": {},
     "output_type": "display_data"
    },
    {
     "name": "stdout",
     "output_type": "stream",
     "text": [
      "\n",
      "File saved to: /nfs/proj-repo/AAARG-dissertation/dataset/mine-trects-kba2014-filtered/embeddings/distilbert-base-nli-stsb-mean-tokens/38_cosine_similarity.pickle\n",
      "File saved to: /nfs/proj-repo/AAARG-dissertation/dataset/mine-trects-kba2014-filtered/embeddings/distilbert-base-nli-stsb-mean-tokens/38_cos_sim_nearest_nug.pickle\n",
      "File saved to: /nfs/proj-repo/AAARG-dissertation/dataset/mine-trects-kba2014-filtered/embeddings/distilbert-base-nli-stsb-mean-tokens/38_embedding.pickle\n"
     ]
    },
    {
     "data": {
      "application/vnd.jupyter.widget-view+json": {
       "model_id": "30f57bd92c434196bebdf8d9fc0ec76f",
       "version_major": 2,
       "version_minor": 0
      },
      "text/plain": [
       "HBox(children=(IntProgress(value=0, max=3), HTML(value='')))"
      ]
     },
     "metadata": {},
     "output_type": "display_data"
    },
    {
     "name": "stdout",
     "output_type": "stream",
     "text": [
      "File saved to: /nfs/proj-repo/AAARG-dissertation/dataset/mine-trects-kba2014-filtered/embeddings/distilbert-base-nli-stsb-mean-tokens/39_cosine_similarity.pickle\n",
      "File saved to: /nfs/proj-repo/AAARG-dissertation/dataset/mine-trects-kba2014-filtered/embeddings/distilbert-base-nli-stsb-mean-tokens/39_cos_sim_nearest_nug.pickle\n",
      "File saved to: /nfs/proj-repo/AAARG-dissertation/dataset/mine-trects-kba2014-filtered/embeddings/distilbert-base-nli-stsb-mean-tokens/39_embedding.pickle\n"
     ]
    },
    {
     "data": {
      "application/vnd.jupyter.widget-view+json": {
       "model_id": "30dd81dd0f244002af9a8bcb3faa8d19",
       "version_major": 2,
       "version_minor": 0
      },
      "text/plain": [
       "HBox(children=(IntProgress(value=0, max=5), HTML(value='')))"
      ]
     },
     "metadata": {},
     "output_type": "display_data"
    },
    {
     "name": "stdout",
     "output_type": "stream",
     "text": [
      "\n",
      "File saved to: /nfs/proj-repo/AAARG-dissertation/dataset/mine-trects-kba2014-filtered/embeddings/distilbert-base-nli-stsb-mean-tokens/40_cosine_similarity.pickle\n",
      "File saved to: /nfs/proj-repo/AAARG-dissertation/dataset/mine-trects-kba2014-filtered/embeddings/distilbert-base-nli-stsb-mean-tokens/40_cos_sim_nearest_nug.pickle\n",
      "File saved to: /nfs/proj-repo/AAARG-dissertation/dataset/mine-trects-kba2014-filtered/embeddings/distilbert-base-nli-stsb-mean-tokens/40_embedding.pickle\n"
     ]
    },
    {
     "data": {
      "application/vnd.jupyter.widget-view+json": {
       "model_id": "84290876e5ab4f0ca1784b3c12432860",
       "version_major": 2,
       "version_minor": 0
      },
      "text/plain": [
       "HBox(children=(IntProgress(value=0, max=39), HTML(value='')))"
      ]
     },
     "metadata": {},
     "output_type": "display_data"
    },
    {
     "name": "stdout",
     "output_type": "stream",
     "text": [
      "File saved to: /nfs/proj-repo/AAARG-dissertation/dataset/mine-trects-kba2014-filtered/embeddings/distilbert-base-nli-stsb-mean-tokens/41_cosine_similarity.pickle\n",
      "File saved to: /nfs/proj-repo/AAARG-dissertation/dataset/mine-trects-kba2014-filtered/embeddings/distilbert-base-nli-stsb-mean-tokens/41_cos_sim_nearest_nug.pickle\n",
      "File saved to: /nfs/proj-repo/AAARG-dissertation/dataset/mine-trects-kba2014-filtered/embeddings/distilbert-base-nli-stsb-mean-tokens/41_embedding.pickle\n"
     ]
    },
    {
     "data": {
      "application/vnd.jupyter.widget-view+json": {
       "model_id": "655de6ab9b694b4cba4a7bfd9dbeea7a",
       "version_major": 2,
       "version_minor": 0
      },
      "text/plain": [
       "HBox(children=(IntProgress(value=0, max=14), HTML(value='')))"
      ]
     },
     "metadata": {},
     "output_type": "display_data"
    },
    {
     "name": "stdout",
     "output_type": "stream",
     "text": [
      "File saved to: /nfs/proj-repo/AAARG-dissertation/dataset/mine-trects-kba2014-filtered/embeddings/distilbert-base-nli-stsb-mean-tokens/42_cosine_similarity.pickle\n",
      "File saved to: /nfs/proj-repo/AAARG-dissertation/dataset/mine-trects-kba2014-filtered/embeddings/distilbert-base-nli-stsb-mean-tokens/42_cos_sim_nearest_nug.pickle\n",
      "File saved to: /nfs/proj-repo/AAARG-dissertation/dataset/mine-trects-kba2014-filtered/embeddings/distilbert-base-nli-stsb-mean-tokens/42_embedding.pickle\n"
     ]
    },
    {
     "data": {
      "application/vnd.jupyter.widget-view+json": {
       "model_id": "e73b720184294df88e480026657a71f3",
       "version_major": 2,
       "version_minor": 0
      },
      "text/plain": [
       "HBox(children=(IntProgress(value=0, max=28), HTML(value='')))"
      ]
     },
     "metadata": {},
     "output_type": "display_data"
    },
    {
     "name": "stdout",
     "output_type": "stream",
     "text": [
      "File saved to: /nfs/proj-repo/AAARG-dissertation/dataset/mine-trects-kba2014-filtered/embeddings/distilbert-base-nli-stsb-mean-tokens/43_cosine_similarity.pickle\n",
      "File saved to: /nfs/proj-repo/AAARG-dissertation/dataset/mine-trects-kba2014-filtered/embeddings/distilbert-base-nli-stsb-mean-tokens/43_cos_sim_nearest_nug.pickle\n",
      "File saved to: /nfs/proj-repo/AAARG-dissertation/dataset/mine-trects-kba2014-filtered/embeddings/distilbert-base-nli-stsb-mean-tokens/43_embedding.pickle\n"
     ]
    },
    {
     "data": {
      "application/vnd.jupyter.widget-view+json": {
       "model_id": "f9b05186d7764731a809595e39a7ddb3",
       "version_major": 2,
       "version_minor": 0
      },
      "text/plain": [
       "HBox(children=(IntProgress(value=0, max=4), HTML(value='')))"
      ]
     },
     "metadata": {},
     "output_type": "display_data"
    },
    {
     "name": "stdout",
     "output_type": "stream",
     "text": [
      "File saved to: /nfs/proj-repo/AAARG-dissertation/dataset/mine-trects-kba2014-filtered/embeddings/distilbert-base-nli-stsb-mean-tokens/44_cosine_similarity.pickle\n",
      "File saved to: /nfs/proj-repo/AAARG-dissertation/dataset/mine-trects-kba2014-filtered/embeddings/distilbert-base-nli-stsb-mean-tokens/44_cos_sim_nearest_nug.pickle\n",
      "File saved to: /nfs/proj-repo/AAARG-dissertation/dataset/mine-trects-kba2014-filtered/embeddings/distilbert-base-nli-stsb-mean-tokens/44_embedding.pickle\n"
     ]
    },
    {
     "data": {
      "application/vnd.jupyter.widget-view+json": {
       "model_id": "88ab2209c4f749dc9512a9cbb5c428bb",
       "version_major": 2,
       "version_minor": 0
      },
      "text/plain": [
       "HBox(children=(IntProgress(value=0, max=7), HTML(value='')))"
      ]
     },
     "metadata": {},
     "output_type": "display_data"
    },
    {
     "name": "stdout",
     "output_type": "stream",
     "text": [
      "File saved to: /nfs/proj-repo/AAARG-dissertation/dataset/mine-trects-kba2014-filtered/embeddings/distilbert-base-nli-stsb-mean-tokens/45_cosine_similarity.pickle\n",
      "File saved to: /nfs/proj-repo/AAARG-dissertation/dataset/mine-trects-kba2014-filtered/embeddings/distilbert-base-nli-stsb-mean-tokens/45_cos_sim_nearest_nug.pickle\n",
      "File saved to: /nfs/proj-repo/AAARG-dissertation/dataset/mine-trects-kba2014-filtered/embeddings/distilbert-base-nli-stsb-mean-tokens/45_embedding.pickle\n"
     ]
    },
    {
     "data": {
      "application/vnd.jupyter.widget-view+json": {
       "model_id": "2120c318d6eb4e0ea7cb01bcf8fcc789",
       "version_major": 2,
       "version_minor": 0
      },
      "text/plain": [
       "HBox(children=(IntProgress(value=0, max=6), HTML(value='')))"
      ]
     },
     "metadata": {},
     "output_type": "display_data"
    },
    {
     "name": "stdout",
     "output_type": "stream",
     "text": [
      "File saved to: /nfs/proj-repo/AAARG-dissertation/dataset/mine-trects-kba2014-filtered/embeddings/distilbert-base-nli-stsb-mean-tokens/46_cosine_similarity.pickle\n",
      "File saved to: /nfs/proj-repo/AAARG-dissertation/dataset/mine-trects-kba2014-filtered/embeddings/distilbert-base-nli-stsb-mean-tokens/46_cos_sim_nearest_nug.pickle\n",
      "File saved to: /nfs/proj-repo/AAARG-dissertation/dataset/mine-trects-kba2014-filtered/embeddings/distilbert-base-nli-stsb-mean-tokens/46_embedding.pickle\n",
      "\n",
      "Using inputs from stsb-roberta-base\n"
     ]
    },
    {
     "data": {
      "application/vnd.jupyter.widget-view+json": {
       "model_id": "9f6a7713147a427a9f992f19e0281a9c",
       "version_major": 2,
       "version_minor": 0
      },
      "text/plain": [
       "HBox(children=(IntProgress(value=0, max=45), HTML(value='')))"
      ]
     },
     "metadata": {},
     "output_type": "display_data"
    },
    {
     "data": {
      "application/vnd.jupyter.widget-view+json": {
       "model_id": "f7cd922697694fbc830c9665fbfa9a4c",
       "version_major": 2,
       "version_minor": 0
      },
      "text/plain": [
       "HBox(children=(IntProgress(value=0, max=6), HTML(value='')))"
      ]
     },
     "metadata": {},
     "output_type": "display_data"
    },
    {
     "name": "stdout",
     "output_type": "stream",
     "text": [
      "\n",
      "File saved to: /nfs/proj-repo/AAARG-dissertation/dataset/mine-trects-kba2014-filtered/embeddings/stsb-roberta-base/1_cosine_similarity.pickle\n",
      "File saved to: /nfs/proj-repo/AAARG-dissertation/dataset/mine-trects-kba2014-filtered/embeddings/stsb-roberta-base/1_cos_sim_nearest_nug.pickle\n",
      "File saved to: /nfs/proj-repo/AAARG-dissertation/dataset/mine-trects-kba2014-filtered/embeddings/stsb-roberta-base/1_embedding.pickle\n"
     ]
    },
    {
     "data": {
      "application/vnd.jupyter.widget-view+json": {
       "model_id": "cccc3cbddcda4a7d84ae9f245478fd6b",
       "version_major": 2,
       "version_minor": 0
      },
      "text/plain": [
       "HBox(children=(IntProgress(value=0, max=8), HTML(value='')))"
      ]
     },
     "metadata": {},
     "output_type": "display_data"
    },
    {
     "name": "stdout",
     "output_type": "stream",
     "text": [
      "File saved to: /nfs/proj-repo/AAARG-dissertation/dataset/mine-trects-kba2014-filtered/embeddings/stsb-roberta-base/2_cosine_similarity.pickle\n",
      "File saved to: /nfs/proj-repo/AAARG-dissertation/dataset/mine-trects-kba2014-filtered/embeddings/stsb-roberta-base/2_cos_sim_nearest_nug.pickle\n",
      "File saved to: /nfs/proj-repo/AAARG-dissertation/dataset/mine-trects-kba2014-filtered/embeddings/stsb-roberta-base/2_embedding.pickle\n"
     ]
    },
    {
     "data": {
      "application/vnd.jupyter.widget-view+json": {
       "model_id": "6e61fbe668c64ed0a1cf707a40a98dcd",
       "version_major": 2,
       "version_minor": 0
      },
      "text/plain": [
       "HBox(children=(IntProgress(value=0, max=1), HTML(value='')))"
      ]
     },
     "metadata": {},
     "output_type": "display_data"
    },
    {
     "name": "stdout",
     "output_type": "stream",
     "text": [
      "\n",
      "File saved to: /nfs/proj-repo/AAARG-dissertation/dataset/mine-trects-kba2014-filtered/embeddings/stsb-roberta-base/3_cosine_similarity.pickle\n",
      "File saved to: /nfs/proj-repo/AAARG-dissertation/dataset/mine-trects-kba2014-filtered/embeddings/stsb-roberta-base/3_cos_sim_nearest_nug.pickle\n",
      "File saved to: /nfs/proj-repo/AAARG-dissertation/dataset/mine-trects-kba2014-filtered/embeddings/stsb-roberta-base/3_embedding.pickle\n"
     ]
    },
    {
     "data": {
      "application/vnd.jupyter.widget-view+json": {
       "model_id": "ecde39e5b14f4bd6a24c377da8caffac",
       "version_major": 2,
       "version_minor": 0
      },
      "text/plain": [
       "HBox(children=(IntProgress(value=0, max=1), HTML(value='')))"
      ]
     },
     "metadata": {},
     "output_type": "display_data"
    },
    {
     "name": "stdout",
     "output_type": "stream",
     "text": [
      "\n",
      "File saved to: /nfs/proj-repo/AAARG-dissertation/dataset/mine-trects-kba2014-filtered/embeddings/stsb-roberta-base/4_cosine_similarity.pickle\n",
      "File saved to: /nfs/proj-repo/AAARG-dissertation/dataset/mine-trects-kba2014-filtered/embeddings/stsb-roberta-base/4_cos_sim_nearest_nug.pickle\n",
      "File saved to: /nfs/proj-repo/AAARG-dissertation/dataset/mine-trects-kba2014-filtered/embeddings/stsb-roberta-base/4_embedding.pickle\n"
     ]
    },
    {
     "data": {
      "application/vnd.jupyter.widget-view+json": {
       "model_id": "38b2ae76bfc34d9b84404a4a3234298d",
       "version_major": 2,
       "version_minor": 0
      },
      "text/plain": [
       "HBox(children=(IntProgress(value=0, max=1), HTML(value='')))"
      ]
     },
     "metadata": {},
     "output_type": "display_data"
    },
    {
     "name": "stdout",
     "output_type": "stream",
     "text": [
      "\n",
      "File saved to: /nfs/proj-repo/AAARG-dissertation/dataset/mine-trects-kba2014-filtered/embeddings/stsb-roberta-base/5_cosine_similarity.pickle\n",
      "File saved to: /nfs/proj-repo/AAARG-dissertation/dataset/mine-trects-kba2014-filtered/embeddings/stsb-roberta-base/5_cos_sim_nearest_nug.pickle\n",
      "File saved to: /nfs/proj-repo/AAARG-dissertation/dataset/mine-trects-kba2014-filtered/embeddings/stsb-roberta-base/5_embedding.pickle\n"
     ]
    },
    {
     "data": {
      "application/vnd.jupyter.widget-view+json": {
       "model_id": "cbcb783da36843a2af2e88da715c1b85",
       "version_major": 2,
       "version_minor": 0
      },
      "text/plain": [
       "HBox(children=(IntProgress(value=0, max=7), HTML(value='')))"
      ]
     },
     "metadata": {},
     "output_type": "display_data"
    },
    {
     "name": "stdout",
     "output_type": "stream",
     "text": [
      "File saved to: /nfs/proj-repo/AAARG-dissertation/dataset/mine-trects-kba2014-filtered/embeddings/stsb-roberta-base/6_cosine_similarity.pickle\n",
      "File saved to: /nfs/proj-repo/AAARG-dissertation/dataset/mine-trects-kba2014-filtered/embeddings/stsb-roberta-base/6_cos_sim_nearest_nug.pickle\n",
      "File saved to: /nfs/proj-repo/AAARG-dissertation/dataset/mine-trects-kba2014-filtered/embeddings/stsb-roberta-base/6_embedding.pickle\n"
     ]
    },
    {
     "data": {
      "application/vnd.jupyter.widget-view+json": {
       "model_id": "162631e5251149d2b5eeb1ac9b0f2ac6",
       "version_major": 2,
       "version_minor": 0
      },
      "text/plain": [
       "HBox(children=(IntProgress(value=0, max=4), HTML(value='')))"
      ]
     },
     "metadata": {},
     "output_type": "display_data"
    },
    {
     "name": "stdout",
     "output_type": "stream",
     "text": [
      "\n",
      "File saved to: /nfs/proj-repo/AAARG-dissertation/dataset/mine-trects-kba2014-filtered/embeddings/stsb-roberta-base/8_cosine_similarity.pickle\n",
      "File saved to: /nfs/proj-repo/AAARG-dissertation/dataset/mine-trects-kba2014-filtered/embeddings/stsb-roberta-base/8_cos_sim_nearest_nug.pickle\n",
      "File saved to: /nfs/proj-repo/AAARG-dissertation/dataset/mine-trects-kba2014-filtered/embeddings/stsb-roberta-base/8_embedding.pickle\n"
     ]
    },
    {
     "data": {
      "application/vnd.jupyter.widget-view+json": {
       "model_id": "0f09549fdd9b49a8a1533841e02d8a47",
       "version_major": 2,
       "version_minor": 0
      },
      "text/plain": [
       "HBox(children=(IntProgress(value=0, max=3), HTML(value='')))"
      ]
     },
     "metadata": {},
     "output_type": "display_data"
    },
    {
     "name": "stdout",
     "output_type": "stream",
     "text": [
      "\n",
      "File saved to: /nfs/proj-repo/AAARG-dissertation/dataset/mine-trects-kba2014-filtered/embeddings/stsb-roberta-base/9_cosine_similarity.pickle\n",
      "File saved to: /nfs/proj-repo/AAARG-dissertation/dataset/mine-trects-kba2014-filtered/embeddings/stsb-roberta-base/9_cos_sim_nearest_nug.pickle\n",
      "File saved to: /nfs/proj-repo/AAARG-dissertation/dataset/mine-trects-kba2014-filtered/embeddings/stsb-roberta-base/9_embedding.pickle\n"
     ]
    },
    {
     "data": {
      "application/vnd.jupyter.widget-view+json": {
       "model_id": "f96add5693df4f729df0606da6c4c8a1",
       "version_major": 2,
       "version_minor": 0
      },
      "text/plain": [
       "HBox(children=(IntProgress(value=0, max=9), HTML(value='')))"
      ]
     },
     "metadata": {},
     "output_type": "display_data"
    },
    {
     "name": "stdout",
     "output_type": "stream",
     "text": [
      "File saved to: /nfs/proj-repo/AAARG-dissertation/dataset/mine-trects-kba2014-filtered/embeddings/stsb-roberta-base/10_cosine_similarity.pickle\n",
      "File saved to: /nfs/proj-repo/AAARG-dissertation/dataset/mine-trects-kba2014-filtered/embeddings/stsb-roberta-base/10_cos_sim_nearest_nug.pickle\n",
      "File saved to: /nfs/proj-repo/AAARG-dissertation/dataset/mine-trects-kba2014-filtered/embeddings/stsb-roberta-base/10_embedding.pickle\n"
     ]
    },
    {
     "data": {
      "application/vnd.jupyter.widget-view+json": {
       "model_id": "ed8093bf162e48f78ba5699726bfde8c",
       "version_major": 2,
       "version_minor": 0
      },
      "text/plain": [
       "HBox(children=(IntProgress(value=0, max=9), HTML(value='')))"
      ]
     },
     "metadata": {},
     "output_type": "display_data"
    },
    {
     "name": "stdout",
     "output_type": "stream",
     "text": [
      "File saved to: /nfs/proj-repo/AAARG-dissertation/dataset/mine-trects-kba2014-filtered/embeddings/stsb-roberta-base/11_cosine_similarity.pickle\n",
      "File saved to: /nfs/proj-repo/AAARG-dissertation/dataset/mine-trects-kba2014-filtered/embeddings/stsb-roberta-base/11_cos_sim_nearest_nug.pickle\n",
      "File saved to: /nfs/proj-repo/AAARG-dissertation/dataset/mine-trects-kba2014-filtered/embeddings/stsb-roberta-base/11_embedding.pickle\n"
     ]
    },
    {
     "data": {
      "application/vnd.jupyter.widget-view+json": {
       "model_id": "821d3b602fff4925bdfa98517ed06e1a",
       "version_major": 2,
       "version_minor": 0
      },
      "text/plain": [
       "HBox(children=(IntProgress(value=0, max=15), HTML(value='')))"
      ]
     },
     "metadata": {},
     "output_type": "display_data"
    },
    {
     "name": "stdout",
     "output_type": "stream",
     "text": [
      "File saved to: /nfs/proj-repo/AAARG-dissertation/dataset/mine-trects-kba2014-filtered/embeddings/stsb-roberta-base/12_cosine_similarity.pickle\n",
      "File saved to: /nfs/proj-repo/AAARG-dissertation/dataset/mine-trects-kba2014-filtered/embeddings/stsb-roberta-base/12_cos_sim_nearest_nug.pickle\n",
      "File saved to: /nfs/proj-repo/AAARG-dissertation/dataset/mine-trects-kba2014-filtered/embeddings/stsb-roberta-base/12_embedding.pickle\n"
     ]
    },
    {
     "data": {
      "application/vnd.jupyter.widget-view+json": {
       "model_id": "317d6972b79a4417bd9bd978d55b614c",
       "version_major": 2,
       "version_minor": 0
      },
      "text/plain": [
       "HBox(children=(IntProgress(value=0, max=46), HTML(value='')))"
      ]
     },
     "metadata": {},
     "output_type": "display_data"
    },
    {
     "name": "stdout",
     "output_type": "stream",
     "text": [
      "File saved to: /nfs/proj-repo/AAARG-dissertation/dataset/mine-trects-kba2014-filtered/embeddings/stsb-roberta-base/13_cosine_similarity.pickle\n",
      "File saved to: /nfs/proj-repo/AAARG-dissertation/dataset/mine-trects-kba2014-filtered/embeddings/stsb-roberta-base/13_cos_sim_nearest_nug.pickle\n",
      "File saved to: /nfs/proj-repo/AAARG-dissertation/dataset/mine-trects-kba2014-filtered/embeddings/stsb-roberta-base/13_embedding.pickle\n"
     ]
    },
    {
     "data": {
      "application/vnd.jupyter.widget-view+json": {
       "model_id": "4935b3927ccf4cfc97c75e188150d457",
       "version_major": 2,
       "version_minor": 0
      },
      "text/plain": [
       "HBox(children=(IntProgress(value=0, max=39), HTML(value='')))"
      ]
     },
     "metadata": {},
     "output_type": "display_data"
    },
    {
     "name": "stdout",
     "output_type": "stream",
     "text": [
      "File saved to: /nfs/proj-repo/AAARG-dissertation/dataset/mine-trects-kba2014-filtered/embeddings/stsb-roberta-base/14_cosine_similarity.pickle\n",
      "File saved to: /nfs/proj-repo/AAARG-dissertation/dataset/mine-trects-kba2014-filtered/embeddings/stsb-roberta-base/14_cos_sim_nearest_nug.pickle\n",
      "File saved to: /nfs/proj-repo/AAARG-dissertation/dataset/mine-trects-kba2014-filtered/embeddings/stsb-roberta-base/14_embedding.pickle\n"
     ]
    },
    {
     "data": {
      "application/vnd.jupyter.widget-view+json": {
       "model_id": "e5b4ddb5d2ff411bb1dc38136c03ee7d",
       "version_major": 2,
       "version_minor": 0
      },
      "text/plain": [
       "HBox(children=(IntProgress(value=0, max=8), HTML(value='')))"
      ]
     },
     "metadata": {},
     "output_type": "display_data"
    },
    {
     "name": "stdout",
     "output_type": "stream",
     "text": [
      "File saved to: /nfs/proj-repo/AAARG-dissertation/dataset/mine-trects-kba2014-filtered/embeddings/stsb-roberta-base/15_cosine_similarity.pickle\n",
      "File saved to: /nfs/proj-repo/AAARG-dissertation/dataset/mine-trects-kba2014-filtered/embeddings/stsb-roberta-base/15_cos_sim_nearest_nug.pickle\n",
      "File saved to: /nfs/proj-repo/AAARG-dissertation/dataset/mine-trects-kba2014-filtered/embeddings/stsb-roberta-base/15_embedding.pickle\n"
     ]
    },
    {
     "data": {
      "application/vnd.jupyter.widget-view+json": {
       "model_id": "d71af64f3efe4c30a33591d086d2232b",
       "version_major": 2,
       "version_minor": 0
      },
      "text/plain": [
       "HBox(children=(IntProgress(value=0, max=7), HTML(value='')))"
      ]
     },
     "metadata": {},
     "output_type": "display_data"
    },
    {
     "name": "stdout",
     "output_type": "stream",
     "text": [
      "\n",
      "File saved to: /nfs/proj-repo/AAARG-dissertation/dataset/mine-trects-kba2014-filtered/embeddings/stsb-roberta-base/16_cosine_similarity.pickle\n",
      "File saved to: /nfs/proj-repo/AAARG-dissertation/dataset/mine-trects-kba2014-filtered/embeddings/stsb-roberta-base/16_cos_sim_nearest_nug.pickle\n",
      "File saved to: /nfs/proj-repo/AAARG-dissertation/dataset/mine-trects-kba2014-filtered/embeddings/stsb-roberta-base/16_embedding.pickle\n"
     ]
    },
    {
     "data": {
      "application/vnd.jupyter.widget-view+json": {
       "model_id": "ca8afad08b714c64a6d251f7c1dfe0bb",
       "version_major": 2,
       "version_minor": 0
      },
      "text/plain": [
       "HBox(children=(IntProgress(value=0, max=27), HTML(value='')))"
      ]
     },
     "metadata": {},
     "output_type": "display_data"
    },
    {
     "name": "stdout",
     "output_type": "stream",
     "text": [
      "File saved to: /nfs/proj-repo/AAARG-dissertation/dataset/mine-trects-kba2014-filtered/embeddings/stsb-roberta-base/17_cosine_similarity.pickle\n",
      "File saved to: /nfs/proj-repo/AAARG-dissertation/dataset/mine-trects-kba2014-filtered/embeddings/stsb-roberta-base/17_cos_sim_nearest_nug.pickle\n",
      "File saved to: /nfs/proj-repo/AAARG-dissertation/dataset/mine-trects-kba2014-filtered/embeddings/stsb-roberta-base/17_embedding.pickle\n"
     ]
    },
    {
     "data": {
      "application/vnd.jupyter.widget-view+json": {
       "model_id": "b6b4db4a78be44278d3d55a106a7ffe3",
       "version_major": 2,
       "version_minor": 0
      },
      "text/plain": [
       "HBox(children=(IntProgress(value=0, max=10), HTML(value='')))"
      ]
     },
     "metadata": {},
     "output_type": "display_data"
    },
    {
     "name": "stdout",
     "output_type": "stream",
     "text": [
      "File saved to: /nfs/proj-repo/AAARG-dissertation/dataset/mine-trects-kba2014-filtered/embeddings/stsb-roberta-base/18_cosine_similarity.pickle\n",
      "File saved to: /nfs/proj-repo/AAARG-dissertation/dataset/mine-trects-kba2014-filtered/embeddings/stsb-roberta-base/18_cos_sim_nearest_nug.pickle\n",
      "File saved to: /nfs/proj-repo/AAARG-dissertation/dataset/mine-trects-kba2014-filtered/embeddings/stsb-roberta-base/18_embedding.pickle\n"
     ]
    },
    {
     "data": {
      "application/vnd.jupyter.widget-view+json": {
       "model_id": "27eb257d6a754d128e7c440ec02f6094",
       "version_major": 2,
       "version_minor": 0
      },
      "text/plain": [
       "HBox(children=(IntProgress(value=0, max=7), HTML(value='')))"
      ]
     },
     "metadata": {},
     "output_type": "display_data"
    },
    {
     "name": "stdout",
     "output_type": "stream",
     "text": [
      "File saved to: /nfs/proj-repo/AAARG-dissertation/dataset/mine-trects-kba2014-filtered/embeddings/stsb-roberta-base/19_cosine_similarity.pickle\n",
      "File saved to: /nfs/proj-repo/AAARG-dissertation/dataset/mine-trects-kba2014-filtered/embeddings/stsb-roberta-base/19_cos_sim_nearest_nug.pickle\n",
      "File saved to: /nfs/proj-repo/AAARG-dissertation/dataset/mine-trects-kba2014-filtered/embeddings/stsb-roberta-base/19_embedding.pickle\n"
     ]
    },
    {
     "data": {
      "application/vnd.jupyter.widget-view+json": {
       "model_id": "d7f7d0b7ccc14ff5ab531d5769a3f46a",
       "version_major": 2,
       "version_minor": 0
      },
      "text/plain": [
       "HBox(children=(IntProgress(value=0, max=9), HTML(value='')))"
      ]
     },
     "metadata": {},
     "output_type": "display_data"
    },
    {
     "name": "stdout",
     "output_type": "stream",
     "text": [
      "File saved to: /nfs/proj-repo/AAARG-dissertation/dataset/mine-trects-kba2014-filtered/embeddings/stsb-roberta-base/20_cosine_similarity.pickle\n",
      "File saved to: /nfs/proj-repo/AAARG-dissertation/dataset/mine-trects-kba2014-filtered/embeddings/stsb-roberta-base/20_cos_sim_nearest_nug.pickle\n",
      "File saved to: /nfs/proj-repo/AAARG-dissertation/dataset/mine-trects-kba2014-filtered/embeddings/stsb-roberta-base/20_embedding.pickle\n"
     ]
    },
    {
     "data": {
      "application/vnd.jupyter.widget-view+json": {
       "model_id": "ddf9f7af277c41c796f32ff2bd18a04f",
       "version_major": 2,
       "version_minor": 0
      },
      "text/plain": [
       "HBox(children=(IntProgress(value=0, max=43), HTML(value='')))"
      ]
     },
     "metadata": {},
     "output_type": "display_data"
    },
    {
     "name": "stdout",
     "output_type": "stream",
     "text": [
      "File saved to: /nfs/proj-repo/AAARG-dissertation/dataset/mine-trects-kba2014-filtered/embeddings/stsb-roberta-base/21_cosine_similarity.pickle\n",
      "File saved to: /nfs/proj-repo/AAARG-dissertation/dataset/mine-trects-kba2014-filtered/embeddings/stsb-roberta-base/21_cos_sim_nearest_nug.pickle\n",
      "File saved to: /nfs/proj-repo/AAARG-dissertation/dataset/mine-trects-kba2014-filtered/embeddings/stsb-roberta-base/21_embedding.pickle\n"
     ]
    },
    {
     "data": {
      "application/vnd.jupyter.widget-view+json": {
       "model_id": "c18b545369404b98971112f06718ba3d",
       "version_major": 2,
       "version_minor": 0
      },
      "text/plain": [
       "HBox(children=(IntProgress(value=0, max=50), HTML(value='')))"
      ]
     },
     "metadata": {},
     "output_type": "display_data"
    },
    {
     "name": "stdout",
     "output_type": "stream",
     "text": [
      "File saved to: /nfs/proj-repo/AAARG-dissertation/dataset/mine-trects-kba2014-filtered/embeddings/stsb-roberta-base/22_cosine_similarity.pickle\n",
      "File saved to: /nfs/proj-repo/AAARG-dissertation/dataset/mine-trects-kba2014-filtered/embeddings/stsb-roberta-base/22_cos_sim_nearest_nug.pickle\n",
      "File saved to: /nfs/proj-repo/AAARG-dissertation/dataset/mine-trects-kba2014-filtered/embeddings/stsb-roberta-base/22_embedding.pickle\n"
     ]
    },
    {
     "data": {
      "application/vnd.jupyter.widget-view+json": {
       "model_id": "11dcf825b3a342f6989a7e09e55300c7",
       "version_major": 2,
       "version_minor": 0
      },
      "text/plain": [
       "HBox(children=(IntProgress(value=0, max=66), HTML(value='')))"
      ]
     },
     "metadata": {},
     "output_type": "display_data"
    },
    {
     "name": "stdout",
     "output_type": "stream",
     "text": [
      "File saved to: /nfs/proj-repo/AAARG-dissertation/dataset/mine-trects-kba2014-filtered/embeddings/stsb-roberta-base/23_cosine_similarity.pickle\n",
      "File saved to: /nfs/proj-repo/AAARG-dissertation/dataset/mine-trects-kba2014-filtered/embeddings/stsb-roberta-base/23_cos_sim_nearest_nug.pickle\n",
      "File saved to: /nfs/proj-repo/AAARG-dissertation/dataset/mine-trects-kba2014-filtered/embeddings/stsb-roberta-base/23_embedding.pickle\n"
     ]
    },
    {
     "data": {
      "application/vnd.jupyter.widget-view+json": {
       "model_id": "5da8e37a16324c59a86b9ee5fa351623",
       "version_major": 2,
       "version_minor": 0
      },
      "text/plain": [
       "HBox(children=(IntProgress(value=0, max=55), HTML(value='')))"
      ]
     },
     "metadata": {},
     "output_type": "display_data"
    },
    {
     "name": "stdout",
     "output_type": "stream",
     "text": [
      "File saved to: /nfs/proj-repo/AAARG-dissertation/dataset/mine-trects-kba2014-filtered/embeddings/stsb-roberta-base/24_cosine_similarity.pickle\n",
      "File saved to: /nfs/proj-repo/AAARG-dissertation/dataset/mine-trects-kba2014-filtered/embeddings/stsb-roberta-base/24_cos_sim_nearest_nug.pickle\n",
      "File saved to: /nfs/proj-repo/AAARG-dissertation/dataset/mine-trects-kba2014-filtered/embeddings/stsb-roberta-base/24_embedding.pickle\n"
     ]
    },
    {
     "data": {
      "application/vnd.jupyter.widget-view+json": {
       "model_id": "f19c958aa970459093bc6ed2e9e5e228",
       "version_major": 2,
       "version_minor": 0
      },
      "text/plain": [
       "HBox(children=(IntProgress(value=0, max=25), HTML(value='')))"
      ]
     },
     "metadata": {},
     "output_type": "display_data"
    },
    {
     "name": "stdout",
     "output_type": "stream",
     "text": [
      "File saved to: /nfs/proj-repo/AAARG-dissertation/dataset/mine-trects-kba2014-filtered/embeddings/stsb-roberta-base/25_cosine_similarity.pickle\n",
      "File saved to: /nfs/proj-repo/AAARG-dissertation/dataset/mine-trects-kba2014-filtered/embeddings/stsb-roberta-base/25_cos_sim_nearest_nug.pickle\n",
      "File saved to: /nfs/proj-repo/AAARG-dissertation/dataset/mine-trects-kba2014-filtered/embeddings/stsb-roberta-base/25_embedding.pickle\n"
     ]
    },
    {
     "data": {
      "application/vnd.jupyter.widget-view+json": {
       "model_id": "7bd60285832f45b3a4a18f0d83a42597",
       "version_major": 2,
       "version_minor": 0
      },
      "text/plain": [
       "HBox(children=(IntProgress(value=0, max=49), HTML(value='')))"
      ]
     },
     "metadata": {},
     "output_type": "display_data"
    },
    {
     "name": "stdout",
     "output_type": "stream",
     "text": [
      "File saved to: /nfs/proj-repo/AAARG-dissertation/dataset/mine-trects-kba2014-filtered/embeddings/stsb-roberta-base/26_cosine_similarity.pickle\n",
      "File saved to: /nfs/proj-repo/AAARG-dissertation/dataset/mine-trects-kba2014-filtered/embeddings/stsb-roberta-base/26_cos_sim_nearest_nug.pickle\n",
      "File saved to: /nfs/proj-repo/AAARG-dissertation/dataset/mine-trects-kba2014-filtered/embeddings/stsb-roberta-base/26_embedding.pickle\n"
     ]
    },
    {
     "data": {
      "application/vnd.jupyter.widget-view+json": {
       "model_id": "b5cc2fcd49b0446b99284e5355960cab",
       "version_major": 2,
       "version_minor": 0
      },
      "text/plain": [
       "HBox(children=(IntProgress(value=0, max=6), HTML(value='')))"
      ]
     },
     "metadata": {},
     "output_type": "display_data"
    },
    {
     "name": "stdout",
     "output_type": "stream",
     "text": [
      "File saved to: /nfs/proj-repo/AAARG-dissertation/dataset/mine-trects-kba2014-filtered/embeddings/stsb-roberta-base/27_cosine_similarity.pickle\n",
      "File saved to: /nfs/proj-repo/AAARG-dissertation/dataset/mine-trects-kba2014-filtered/embeddings/stsb-roberta-base/27_cos_sim_nearest_nug.pickle\n",
      "File saved to: /nfs/proj-repo/AAARG-dissertation/dataset/mine-trects-kba2014-filtered/embeddings/stsb-roberta-base/27_embedding.pickle\n"
     ]
    },
    {
     "data": {
      "application/vnd.jupyter.widget-view+json": {
       "model_id": "9ce0c905fb4b422d9919ab9c11e9a460",
       "version_major": 2,
       "version_minor": 0
      },
      "text/plain": [
       "HBox(children=(IntProgress(value=0, max=5), HTML(value='')))"
      ]
     },
     "metadata": {},
     "output_type": "display_data"
    },
    {
     "name": "stdout",
     "output_type": "stream",
     "text": [
      "File saved to: /nfs/proj-repo/AAARG-dissertation/dataset/mine-trects-kba2014-filtered/embeddings/stsb-roberta-base/28_cosine_similarity.pickle\n",
      "File saved to: /nfs/proj-repo/AAARG-dissertation/dataset/mine-trects-kba2014-filtered/embeddings/stsb-roberta-base/28_cos_sim_nearest_nug.pickle\n",
      "File saved to: /nfs/proj-repo/AAARG-dissertation/dataset/mine-trects-kba2014-filtered/embeddings/stsb-roberta-base/28_embedding.pickle\n"
     ]
    },
    {
     "data": {
      "application/vnd.jupyter.widget-view+json": {
       "model_id": "a9baa40b042b4c3c8e7d12965be99f3f",
       "version_major": 2,
       "version_minor": 0
      },
      "text/plain": [
       "HBox(children=(IntProgress(value=0, max=6), HTML(value='')))"
      ]
     },
     "metadata": {},
     "output_type": "display_data"
    },
    {
     "name": "stdout",
     "output_type": "stream",
     "text": [
      "File saved to: /nfs/proj-repo/AAARG-dissertation/dataset/mine-trects-kba2014-filtered/embeddings/stsb-roberta-base/29_cosine_similarity.pickle\n",
      "File saved to: /nfs/proj-repo/AAARG-dissertation/dataset/mine-trects-kba2014-filtered/embeddings/stsb-roberta-base/29_cos_sim_nearest_nug.pickle\n",
      "File saved to: /nfs/proj-repo/AAARG-dissertation/dataset/mine-trects-kba2014-filtered/embeddings/stsb-roberta-base/29_embedding.pickle\n"
     ]
    },
    {
     "data": {
      "application/vnd.jupyter.widget-view+json": {
       "model_id": "9e5120a3d23d4039b78053042002f4af",
       "version_major": 2,
       "version_minor": 0
      },
      "text/plain": [
       "HBox(children=(IntProgress(value=0, max=3), HTML(value='')))"
      ]
     },
     "metadata": {},
     "output_type": "display_data"
    },
    {
     "name": "stdout",
     "output_type": "stream",
     "text": [
      "File saved to: /nfs/proj-repo/AAARG-dissertation/dataset/mine-trects-kba2014-filtered/embeddings/stsb-roberta-base/30_cosine_similarity.pickle\n",
      "File saved to: /nfs/proj-repo/AAARG-dissertation/dataset/mine-trects-kba2014-filtered/embeddings/stsb-roberta-base/30_cos_sim_nearest_nug.pickle\n",
      "File saved to: /nfs/proj-repo/AAARG-dissertation/dataset/mine-trects-kba2014-filtered/embeddings/stsb-roberta-base/30_embedding.pickle\n"
     ]
    },
    {
     "data": {
      "application/vnd.jupyter.widget-view+json": {
       "model_id": "02869962406c4f48aae59e928818df1c",
       "version_major": 2,
       "version_minor": 0
      },
      "text/plain": [
       "HBox(children=(IntProgress(value=0, max=2), HTML(value='')))"
      ]
     },
     "metadata": {},
     "output_type": "display_data"
    },
    {
     "name": "stdout",
     "output_type": "stream",
     "text": [
      "\n",
      "File saved to: /nfs/proj-repo/AAARG-dissertation/dataset/mine-trects-kba2014-filtered/embeddings/stsb-roberta-base/31_cosine_similarity.pickle\n",
      "File saved to: /nfs/proj-repo/AAARG-dissertation/dataset/mine-trects-kba2014-filtered/embeddings/stsb-roberta-base/31_cos_sim_nearest_nug.pickle\n",
      "File saved to: /nfs/proj-repo/AAARG-dissertation/dataset/mine-trects-kba2014-filtered/embeddings/stsb-roberta-base/31_embedding.pickle\n"
     ]
    },
    {
     "data": {
      "application/vnd.jupyter.widget-view+json": {
       "model_id": "d7fc8a86c3d34c03b51da5fcc4430a31",
       "version_major": 2,
       "version_minor": 0
      },
      "text/plain": [
       "HBox(children=(IntProgress(value=0, max=10), HTML(value='')))"
      ]
     },
     "metadata": {},
     "output_type": "display_data"
    },
    {
     "name": "stdout",
     "output_type": "stream",
     "text": [
      "File saved to: /nfs/proj-repo/AAARG-dissertation/dataset/mine-trects-kba2014-filtered/embeddings/stsb-roberta-base/32_cosine_similarity.pickle\n",
      "File saved to: /nfs/proj-repo/AAARG-dissertation/dataset/mine-trects-kba2014-filtered/embeddings/stsb-roberta-base/32_cos_sim_nearest_nug.pickle\n",
      "File saved to: /nfs/proj-repo/AAARG-dissertation/dataset/mine-trects-kba2014-filtered/embeddings/stsb-roberta-base/32_embedding.pickle\n"
     ]
    },
    {
     "data": {
      "application/vnd.jupyter.widget-view+json": {
       "model_id": "04f4ac40e8bd46da871c6afac522466b",
       "version_major": 2,
       "version_minor": 0
      },
      "text/plain": [
       "HBox(children=(IntProgress(value=0, max=24), HTML(value='')))"
      ]
     },
     "metadata": {},
     "output_type": "display_data"
    },
    {
     "name": "stdout",
     "output_type": "stream",
     "text": [
      "File saved to: /nfs/proj-repo/AAARG-dissertation/dataset/mine-trects-kba2014-filtered/embeddings/stsb-roberta-base/33_cosine_similarity.pickle\n",
      "File saved to: /nfs/proj-repo/AAARG-dissertation/dataset/mine-trects-kba2014-filtered/embeddings/stsb-roberta-base/33_cos_sim_nearest_nug.pickle\n",
      "File saved to: /nfs/proj-repo/AAARG-dissertation/dataset/mine-trects-kba2014-filtered/embeddings/stsb-roberta-base/33_embedding.pickle\n"
     ]
    },
    {
     "data": {
      "application/vnd.jupyter.widget-view+json": {
       "model_id": "a3b16c93691d4e4b9ca1c4748ba14c6c",
       "version_major": 2,
       "version_minor": 0
      },
      "text/plain": [
       "HBox(children=(IntProgress(value=0, max=19), HTML(value='')))"
      ]
     },
     "metadata": {},
     "output_type": "display_data"
    },
    {
     "name": "stdout",
     "output_type": "stream",
     "text": [
      "File saved to: /nfs/proj-repo/AAARG-dissertation/dataset/mine-trects-kba2014-filtered/embeddings/stsb-roberta-base/34_cosine_similarity.pickle\n",
      "File saved to: /nfs/proj-repo/AAARG-dissertation/dataset/mine-trects-kba2014-filtered/embeddings/stsb-roberta-base/34_cos_sim_nearest_nug.pickle\n",
      "File saved to: /nfs/proj-repo/AAARG-dissertation/dataset/mine-trects-kba2014-filtered/embeddings/stsb-roberta-base/34_embedding.pickle\n"
     ]
    },
    {
     "data": {
      "application/vnd.jupyter.widget-view+json": {
       "model_id": "b627fce7f0d747a49c5f618eaf8d93d9",
       "version_major": 2,
       "version_minor": 0
      },
      "text/plain": [
       "HBox(children=(IntProgress(value=0, max=34), HTML(value='')))"
      ]
     },
     "metadata": {},
     "output_type": "display_data"
    },
    {
     "name": "stdout",
     "output_type": "stream",
     "text": [
      "File saved to: /nfs/proj-repo/AAARG-dissertation/dataset/mine-trects-kba2014-filtered/embeddings/stsb-roberta-base/35_cosine_similarity.pickle\n",
      "File saved to: /nfs/proj-repo/AAARG-dissertation/dataset/mine-trects-kba2014-filtered/embeddings/stsb-roberta-base/35_cos_sim_nearest_nug.pickle\n",
      "File saved to: /nfs/proj-repo/AAARG-dissertation/dataset/mine-trects-kba2014-filtered/embeddings/stsb-roberta-base/35_embedding.pickle\n"
     ]
    },
    {
     "data": {
      "application/vnd.jupyter.widget-view+json": {
       "model_id": "215b7bd5280744a1bd6648015a973284",
       "version_major": 2,
       "version_minor": 0
      },
      "text/plain": [
       "HBox(children=(IntProgress(value=0, max=3), HTML(value='')))"
      ]
     },
     "metadata": {},
     "output_type": "display_data"
    },
    {
     "name": "stdout",
     "output_type": "stream",
     "text": [
      "File saved to: /nfs/proj-repo/AAARG-dissertation/dataset/mine-trects-kba2014-filtered/embeddings/stsb-roberta-base/36_cosine_similarity.pickle\n",
      "File saved to: /nfs/proj-repo/AAARG-dissertation/dataset/mine-trects-kba2014-filtered/embeddings/stsb-roberta-base/36_cos_sim_nearest_nug.pickle\n",
      "File saved to: /nfs/proj-repo/AAARG-dissertation/dataset/mine-trects-kba2014-filtered/embeddings/stsb-roberta-base/36_embedding.pickle\n"
     ]
    },
    {
     "data": {
      "application/vnd.jupyter.widget-view+json": {
       "model_id": "29463b1e95da4731b42bd92ced66362a",
       "version_major": 2,
       "version_minor": 0
      },
      "text/plain": [
       "HBox(children=(IntProgress(value=0, max=5), HTML(value='')))"
      ]
     },
     "metadata": {},
     "output_type": "display_data"
    },
    {
     "name": "stdout",
     "output_type": "stream",
     "text": [
      "\n",
      "File saved to: /nfs/proj-repo/AAARG-dissertation/dataset/mine-trects-kba2014-filtered/embeddings/stsb-roberta-base/37_cosine_similarity.pickle\n",
      "File saved to: /nfs/proj-repo/AAARG-dissertation/dataset/mine-trects-kba2014-filtered/embeddings/stsb-roberta-base/37_cos_sim_nearest_nug.pickle\n",
      "File saved to: /nfs/proj-repo/AAARG-dissertation/dataset/mine-trects-kba2014-filtered/embeddings/stsb-roberta-base/37_embedding.pickle\n"
     ]
    },
    {
     "data": {
      "application/vnd.jupyter.widget-view+json": {
       "model_id": "2f1581842f4d4460a7244f3808e63e04",
       "version_major": 2,
       "version_minor": 0
      },
      "text/plain": [
       "HBox(children=(IntProgress(value=0, max=4), HTML(value='')))"
      ]
     },
     "metadata": {},
     "output_type": "display_data"
    },
    {
     "name": "stdout",
     "output_type": "stream",
     "text": [
      "File saved to: /nfs/proj-repo/AAARG-dissertation/dataset/mine-trects-kba2014-filtered/embeddings/stsb-roberta-base/38_cosine_similarity.pickle\n",
      "File saved to: /nfs/proj-repo/AAARG-dissertation/dataset/mine-trects-kba2014-filtered/embeddings/stsb-roberta-base/38_cos_sim_nearest_nug.pickle\n",
      "File saved to: /nfs/proj-repo/AAARG-dissertation/dataset/mine-trects-kba2014-filtered/embeddings/stsb-roberta-base/38_embedding.pickle\n"
     ]
    },
    {
     "data": {
      "application/vnd.jupyter.widget-view+json": {
       "model_id": "413d9bf711664de8ab8fc90186e4b313",
       "version_major": 2,
       "version_minor": 0
      },
      "text/plain": [
       "HBox(children=(IntProgress(value=0, max=3), HTML(value='')))"
      ]
     },
     "metadata": {},
     "output_type": "display_data"
    },
    {
     "name": "stdout",
     "output_type": "stream",
     "text": [
      "File saved to: /nfs/proj-repo/AAARG-dissertation/dataset/mine-trects-kba2014-filtered/embeddings/stsb-roberta-base/39_cosine_similarity.pickle\n",
      "File saved to: /nfs/proj-repo/AAARG-dissertation/dataset/mine-trects-kba2014-filtered/embeddings/stsb-roberta-base/39_cos_sim_nearest_nug.pickle\n",
      "File saved to: /nfs/proj-repo/AAARG-dissertation/dataset/mine-trects-kba2014-filtered/embeddings/stsb-roberta-base/39_embedding.pickle\n"
     ]
    },
    {
     "data": {
      "application/vnd.jupyter.widget-view+json": {
       "model_id": "13aefa41565a47b2ba0581f26c1c8c77",
       "version_major": 2,
       "version_minor": 0
      },
      "text/plain": [
       "HBox(children=(IntProgress(value=0, max=5), HTML(value='')))"
      ]
     },
     "metadata": {},
     "output_type": "display_data"
    },
    {
     "name": "stdout",
     "output_type": "stream",
     "text": [
      "File saved to: /nfs/proj-repo/AAARG-dissertation/dataset/mine-trects-kba2014-filtered/embeddings/stsb-roberta-base/40_cosine_similarity.pickle\n",
      "File saved to: /nfs/proj-repo/AAARG-dissertation/dataset/mine-trects-kba2014-filtered/embeddings/stsb-roberta-base/40_cos_sim_nearest_nug.pickle\n",
      "File saved to: /nfs/proj-repo/AAARG-dissertation/dataset/mine-trects-kba2014-filtered/embeddings/stsb-roberta-base/40_embedding.pickle\n"
     ]
    },
    {
     "data": {
      "application/vnd.jupyter.widget-view+json": {
       "model_id": "4bf7d31463764307ae666d5297d64729",
       "version_major": 2,
       "version_minor": 0
      },
      "text/plain": [
       "HBox(children=(IntProgress(value=0, max=39), HTML(value='')))"
      ]
     },
     "metadata": {},
     "output_type": "display_data"
    },
    {
     "name": "stdout",
     "output_type": "stream",
     "text": [
      "File saved to: /nfs/proj-repo/AAARG-dissertation/dataset/mine-trects-kba2014-filtered/embeddings/stsb-roberta-base/41_cosine_similarity.pickle\n",
      "File saved to: /nfs/proj-repo/AAARG-dissertation/dataset/mine-trects-kba2014-filtered/embeddings/stsb-roberta-base/41_cos_sim_nearest_nug.pickle\n",
      "File saved to: /nfs/proj-repo/AAARG-dissertation/dataset/mine-trects-kba2014-filtered/embeddings/stsb-roberta-base/41_embedding.pickle\n"
     ]
    },
    {
     "data": {
      "application/vnd.jupyter.widget-view+json": {
       "model_id": "ea0e4bebb329459a9111cf9e3923afe1",
       "version_major": 2,
       "version_minor": 0
      },
      "text/plain": [
       "HBox(children=(IntProgress(value=0, max=14), HTML(value='')))"
      ]
     },
     "metadata": {},
     "output_type": "display_data"
    },
    {
     "name": "stdout",
     "output_type": "stream",
     "text": [
      "File saved to: /nfs/proj-repo/AAARG-dissertation/dataset/mine-trects-kba2014-filtered/embeddings/stsb-roberta-base/42_cosine_similarity.pickle\n",
      "File saved to: /nfs/proj-repo/AAARG-dissertation/dataset/mine-trects-kba2014-filtered/embeddings/stsb-roberta-base/42_cos_sim_nearest_nug.pickle\n",
      "File saved to: /nfs/proj-repo/AAARG-dissertation/dataset/mine-trects-kba2014-filtered/embeddings/stsb-roberta-base/42_embedding.pickle\n"
     ]
    },
    {
     "data": {
      "application/vnd.jupyter.widget-view+json": {
       "model_id": "716c02cf436645d88fd849a355041cf2",
       "version_major": 2,
       "version_minor": 0
      },
      "text/plain": [
       "HBox(children=(IntProgress(value=0, max=28), HTML(value='')))"
      ]
     },
     "metadata": {},
     "output_type": "display_data"
    },
    {
     "ename": "KeyboardInterrupt",
     "evalue": "",
     "output_type": "error",
     "traceback": [
      "\u001b[0;31m---------------------------------------------------------------------------\u001b[0m",
      "\u001b[0;31mKeyboardInterrupt\u001b[0m                         Traceback (most recent call last)",
      "\u001b[0;32m<ipython-input-10-8f798cea1bc0>\u001b[0m in \u001b[0;36m<module>\u001b[0;34m\u001b[0m\n\u001b[1;32m      3\u001b[0m \u001b[0mtrainer\u001b[0m \u001b[0;34m=\u001b[0m \u001b[0mNNTrainer\u001b[0m\u001b[0;34m(\u001b[0m\u001b[0;34m)\u001b[0m\u001b[0;34m\u001b[0m\u001b[0;34m\u001b[0m\u001b[0m\n\u001b[1;32m      4\u001b[0m \u001b[0;34m\u001b[0m\u001b[0m\n\u001b[0;32m----> 5\u001b[0;31m \u001b[0mtrainer\u001b[0m\u001b[0;34m.\u001b[0m\u001b[0mtrain\u001b[0m\u001b[0;34m(\u001b[0m\u001b[0mcorpus_names\u001b[0m\u001b[0;34m=\u001b[0m\u001b[0mcorpus_names\u001b[0m\u001b[0;34m,\u001b[0m \u001b[0mverbose\u001b[0m\u001b[0;34m=\u001b[0m\u001b[0;32mTrue\u001b[0m\u001b[0;34m,\u001b[0m \u001b[0mforce_reload\u001b[0m\u001b[0;34m=\u001b[0m\u001b[0;32mFalse\u001b[0m\u001b[0;34m)\u001b[0m\u001b[0;34m\u001b[0m\u001b[0;34m\u001b[0m\u001b[0m\n\u001b[0m",
      "\u001b[0;32m<ipython-input-9-521396b37463>\u001b[0m in \u001b[0;36mtrain\u001b[0;34m(self, corpus_names, nested_dirs, col_labels, tuning_iterations, train_topics, test_topics, input_col_name, force_reload, verbose)\u001b[0m\n\u001b[1;32m     33\u001b[0m         \u001b[0;31m# generate data\u001b[0m\u001b[0;34m\u001b[0m\u001b[0;34m\u001b[0m\u001b[0;34m\u001b[0m\u001b[0m\n\u001b[1;32m     34\u001b[0m         self.input_handler.generate(corpus_names=corpus_names, nested_dirs=nested_dirs, col_labels=col_labels,\n\u001b[0;32m---> 35\u001b[0;31m                                    force_reload=force_reload, verbose=verbose)\n\u001b[0m\u001b[1;32m     36\u001b[0m \u001b[0;34m\u001b[0m\u001b[0m\n\u001b[1;32m     37\u001b[0m         \u001b[0;31m# get our dataset identifiers, used to load correct inputs/labels\u001b[0m\u001b[0;34m\u001b[0m\u001b[0;34m\u001b[0m\u001b[0;34m\u001b[0m\u001b[0m\n",
      "\u001b[0;32m<ipython-input-7-ad5aca3bcb78>\u001b[0m in \u001b[0;36mgenerate\u001b[0;34m(self, corpus_names, nested_dirs, col_labels, emb_file_type, force_reload, verbose)\u001b[0m\n\u001b[1;32m     74\u001b[0m \u001b[0;31m#                                 target_labels.append(col_label)\u001b[0m\u001b[0;34m\u001b[0m\u001b[0;34m\u001b[0m\u001b[0;34m\u001b[0m\u001b[0m\n\u001b[1;32m     75\u001b[0m                         \u001b[0;31m# load the selected labels\u001b[0m\u001b[0;34m\u001b[0m\u001b[0;34m\u001b[0m\u001b[0;34m\u001b[0m\u001b[0m\n\u001b[0;32m---> 76\u001b[0;31m                         \u001b[0mloaded_labels\u001b[0m \u001b[0;34m=\u001b[0m \u001b[0mself\u001b[0m\u001b[0;34m.\u001b[0m\u001b[0mretrieve_col_data\u001b[0m\u001b[0;34m(\u001b[0m\u001b[0memb_paths\u001b[0m\u001b[0;34m,\u001b[0m \u001b[0muntrained_cols\u001b[0m\u001b[0;34m,\u001b[0m \u001b[0mverbose\u001b[0m\u001b[0;34m=\u001b[0m\u001b[0mverbose\u001b[0m\u001b[0;34m)\u001b[0m\u001b[0;34m\u001b[0m\u001b[0;34m\u001b[0m\u001b[0m\n\u001b[0m\u001b[1;32m     77\u001b[0m                         \u001b[0;31m# save the results to separate files\u001b[0m\u001b[0;34m\u001b[0m\u001b[0;34m\u001b[0m\u001b[0;34m\u001b[0m\u001b[0m\n\u001b[1;32m     78\u001b[0m                         \u001b[0;32mfor\u001b[0m \u001b[0mlabel\u001b[0m\u001b[0;34m,\u001b[0m \u001b[0mlabel_data\u001b[0m \u001b[0;32min\u001b[0m \u001b[0mloaded_labels\u001b[0m\u001b[0;34m.\u001b[0m\u001b[0mitems\u001b[0m\u001b[0;34m(\u001b[0m\u001b[0;34m)\u001b[0m\u001b[0;34m:\u001b[0m\u001b[0;34m\u001b[0m\u001b[0;34m\u001b[0m\u001b[0m\n",
      "\u001b[0;32m<ipython-input-7-ad5aca3bcb78>\u001b[0m in \u001b[0;36mretrieve_col_data\u001b[0;34m(self, emb_paths, col_labels, verbose)\u001b[0m\n\u001b[1;32m    160\u001b[0m             \u001b[0mpbar\u001b[0m \u001b[0;34m=\u001b[0m \u001b[0mtqdm_notebook\u001b[0m\u001b[0;34m(\u001b[0m\u001b[0mtotal\u001b[0m\u001b[0;34m=\u001b[0m\u001b[0mlen\u001b[0m\u001b[0;34m(\u001b[0m\u001b[0memb_paths\u001b[0m\u001b[0;34m)\u001b[0m\u001b[0;34m)\u001b[0m\u001b[0;34m\u001b[0m\u001b[0;34m\u001b[0m\u001b[0m\n\u001b[1;32m    161\u001b[0m         \u001b[0;32mfor\u001b[0m \u001b[0memb_path\u001b[0m \u001b[0;32min\u001b[0m \u001b[0memb_paths\u001b[0m\u001b[0;34m[\u001b[0m\u001b[0;34m'path'\u001b[0m\u001b[0;34m]\u001b[0m\u001b[0;34m:\u001b[0m\u001b[0;34m\u001b[0m\u001b[0;34m\u001b[0m\u001b[0m\n\u001b[0;32m--> 162\u001b[0;31m             \u001b[0memb_df\u001b[0m \u001b[0;34m=\u001b[0m \u001b[0mload_embeddings\u001b[0m\u001b[0;34m(\u001b[0m\u001b[0memb_path\u001b[0m\u001b[0;34m,\u001b[0m \u001b[0mverbose\u001b[0m\u001b[0;34m=\u001b[0m\u001b[0;32mFalse\u001b[0m\u001b[0;34m)\u001b[0m\u001b[0;34m\u001b[0m\u001b[0;34m\u001b[0m\u001b[0m\n\u001b[0m\u001b[1;32m    163\u001b[0m             \u001b[0;32mfor\u001b[0m \u001b[0mcol_label\u001b[0m \u001b[0;32min\u001b[0m \u001b[0mcol_labels\u001b[0m\u001b[0;34m:\u001b[0m\u001b[0;34m\u001b[0m\u001b[0;34m\u001b[0m\u001b[0m\n\u001b[1;32m    164\u001b[0m                 \u001b[0;32mif\u001b[0m \u001b[0mcol_label\u001b[0m \u001b[0;32mnot\u001b[0m \u001b[0;32min\u001b[0m \u001b[0memb_df\u001b[0m\u001b[0;34m.\u001b[0m\u001b[0mcolumns\u001b[0m\u001b[0;34m:\u001b[0m\u001b[0;34m\u001b[0m\u001b[0;34m\u001b[0m\u001b[0m\n",
      "\u001b[0;32m/nfs/proj-repo/AAARG-dissertation/notebooks/corpus_loader.ipynb\u001b[0m in \u001b[0;36mload_embeddings\u001b[0;34m(save_path, emb_model, corpus_df, nugget_df, sents_default, only_docs_with_nugs, nlp, force_reload, save, verbose, path_handler)\u001b[0m\n\u001b[1;32m    943\u001b[0m     \u001b[0;34m\"        print(\\\"There were \\\" + str(len(missed_nuggetids)) + \\\" nugget_ids found in matches.tsv but not in nuggets.tsv\\\")\\n\"\u001b[0m\u001b[0;34m,\u001b[0m\u001b[0;34m\u001b[0m\u001b[0;34m\u001b[0m\u001b[0m\n\u001b[1;32m    944\u001b[0m     \u001b[0;34m\"        print(str(len(missed_sentid_streamids)) + \\\" out of \\\" + str(len(entry_list)) + \\n\"\u001b[0m\u001b[0;34m,\u001b[0m\u001b[0;34m\u001b[0m\u001b[0;34m\u001b[0m\u001b[0m\n\u001b[0;32m--> 945\u001b[0;31m     \u001b[0;34m\"              \\\" streamids had out of bounds sent_ids\\\")\\n\"\u001b[0m\u001b[0;34m,\u001b[0m\u001b[0;34m\u001b[0m\u001b[0;34m\u001b[0m\u001b[0m\n\u001b[0m\u001b[1;32m    946\u001b[0m     \u001b[0;34m\"        \\n\"\u001b[0m\u001b[0;34m,\u001b[0m\u001b[0;34m\u001b[0m\u001b[0;34m\u001b[0m\u001b[0m\n\u001b[1;32m    947\u001b[0m     \u001b[0;34m\"    nugget_df = pd.DataFrame(entry_list)\\n\"\u001b[0m\u001b[0;34m,\u001b[0m\u001b[0;34m\u001b[0m\u001b[0;34m\u001b[0m\u001b[0m\n",
      "\u001b[0;32m/nfs/proj-repo/AAARG-dissertation/notebooks/corpus_loader.ipynb\u001b[0m in \u001b[0;36mload_df_control\u001b[0;34m(save_path, load_func, save, force_reload, name, verbose, path_handler)\u001b[0m\n\u001b[1;32m    572\u001b[0m     \u001b[0;34m\"def find_duplicates(df):\\n\"\u001b[0m\u001b[0;34m,\u001b[0m\u001b[0;34m\u001b[0m\u001b[0;34m\u001b[0m\u001b[0m\n\u001b[1;32m    573\u001b[0m     \u001b[0;34m\"    seen = set()\\n\"\u001b[0m\u001b[0;34m,\u001b[0m\u001b[0;34m\u001b[0m\u001b[0;34m\u001b[0m\u001b[0m\n\u001b[0;32m--> 574\u001b[0;31m     \u001b[0;34m\"    seen_twice = set()\\n\"\u001b[0m\u001b[0;34m,\u001b[0m\u001b[0;34m\u001b[0m\u001b[0;34m\u001b[0m\u001b[0m\n\u001b[0m\u001b[1;32m    575\u001b[0m     \u001b[0;34m\"    for docid in df['docid']:\\n\"\u001b[0m\u001b[0;34m,\u001b[0m\u001b[0;34m\u001b[0m\u001b[0;34m\u001b[0m\u001b[0m\n\u001b[1;32m    576\u001b[0m     \u001b[0;34m\"        if docid not in seen:\\n\"\u001b[0m\u001b[0;34m,\u001b[0m\u001b[0;34m\u001b[0m\u001b[0;34m\u001b[0m\u001b[0m\n",
      "\u001b[0;32m/nfs/proj-repo/AAARG-dissertation/notebooks/corpus_loader.ipynb\u001b[0m in \u001b[0;36mread_df_file_type\u001b[0;34m(save_path, verbose, concat_multiple)\u001b[0m\n\u001b[1;32m    542\u001b[0m    \"source\": [\n\u001b[1;32m    543\u001b[0m     \u001b[0;34m\"def topic_id_as_int(topic_id):\\n\"\u001b[0m\u001b[0;34m,\u001b[0m\u001b[0;34m\u001b[0m\u001b[0;34m\u001b[0m\u001b[0m\n\u001b[0;32m--> 544\u001b[0;31m     \u001b[0;34m\"    try:\\n\"\u001b[0m\u001b[0;34m,\u001b[0m\u001b[0;34m\u001b[0m\u001b[0;34m\u001b[0m\u001b[0m\n\u001b[0m\u001b[1;32m    545\u001b[0m     \u001b[0;34m\"        topic_id = int(topic_id)\\n\"\u001b[0m\u001b[0;34m,\u001b[0m\u001b[0;34m\u001b[0m\u001b[0;34m\u001b[0m\u001b[0m\n\u001b[1;32m    546\u001b[0m     \u001b[0;34m\"        return topic_id\\n\"\u001b[0m\u001b[0;34m,\u001b[0m\u001b[0;34m\u001b[0m\u001b[0;34m\u001b[0m\u001b[0m\n",
      "\u001b[0;32m/usr/local/lib/python3.6/dist-packages/pandas/io/pytables.py\u001b[0m in \u001b[0;36mread_hdf\u001b[0;34m(path_or_buf, key, mode, errors, where, start, stop, columns, iterator, chunksize, **kwargs)\u001b[0m\n\u001b[1;32m    426\u001b[0m             \u001b[0miterator\u001b[0m\u001b[0;34m=\u001b[0m\u001b[0miterator\u001b[0m\u001b[0;34m,\u001b[0m\u001b[0;34m\u001b[0m\u001b[0;34m\u001b[0m\u001b[0m\n\u001b[1;32m    427\u001b[0m             \u001b[0mchunksize\u001b[0m\u001b[0;34m=\u001b[0m\u001b[0mchunksize\u001b[0m\u001b[0;34m,\u001b[0m\u001b[0;34m\u001b[0m\u001b[0;34m\u001b[0m\u001b[0m\n\u001b[0;32m--> 428\u001b[0;31m             \u001b[0mauto_close\u001b[0m\u001b[0;34m=\u001b[0m\u001b[0mauto_close\u001b[0m\u001b[0;34m,\u001b[0m\u001b[0;34m\u001b[0m\u001b[0;34m\u001b[0m\u001b[0m\n\u001b[0m\u001b[1;32m    429\u001b[0m         )\n\u001b[1;32m    430\u001b[0m     \u001b[0;32mexcept\u001b[0m \u001b[0;34m(\u001b[0m\u001b[0mValueError\u001b[0m\u001b[0;34m,\u001b[0m \u001b[0mTypeError\u001b[0m\u001b[0;34m,\u001b[0m \u001b[0mKeyError\u001b[0m\u001b[0;34m)\u001b[0m\u001b[0;34m:\u001b[0m\u001b[0;34m\u001b[0m\u001b[0;34m\u001b[0m\u001b[0m\n",
      "\u001b[0;32m/usr/local/lib/python3.6/dist-packages/pandas/io/pytables.py\u001b[0m in \u001b[0;36mselect\u001b[0;34m(self, key, where, start, stop, columns, iterator, chunksize, auto_close)\u001b[0m\n\u001b[1;32m    812\u001b[0m         )\n\u001b[1;32m    813\u001b[0m \u001b[0;34m\u001b[0m\u001b[0m\n\u001b[0;32m--> 814\u001b[0;31m         \u001b[0;32mreturn\u001b[0m \u001b[0mit\u001b[0m\u001b[0;34m.\u001b[0m\u001b[0mget_result\u001b[0m\u001b[0;34m(\u001b[0m\u001b[0;34m)\u001b[0m\u001b[0;34m\u001b[0m\u001b[0;34m\u001b[0m\u001b[0m\n\u001b[0m\u001b[1;32m    815\u001b[0m \u001b[0;34m\u001b[0m\u001b[0m\n\u001b[1;32m    816\u001b[0m     def select_as_coordinates(\n",
      "\u001b[0;32m/usr/local/lib/python3.6/dist-packages/pandas/io/pytables.py\u001b[0m in \u001b[0;36mget_result\u001b[0;34m(self, coordinates)\u001b[0m\n\u001b[1;32m   1828\u001b[0m         \u001b[0;31m# directly return the result\u001b[0m\u001b[0;34m\u001b[0m\u001b[0;34m\u001b[0m\u001b[0;34m\u001b[0m\u001b[0m\n\u001b[1;32m   1829\u001b[0m         \u001b[0mresults\u001b[0m \u001b[0;34m=\u001b[0m \u001b[0mself\u001b[0m\u001b[0;34m.\u001b[0m\u001b[0mfunc\u001b[0m\u001b[0;34m(\u001b[0m\u001b[0mself\u001b[0m\u001b[0;34m.\u001b[0m\u001b[0mstart\u001b[0m\u001b[0;34m,\u001b[0m \u001b[0mself\u001b[0m\u001b[0;34m.\u001b[0m\u001b[0mstop\u001b[0m\u001b[0;34m,\u001b[0m \u001b[0mwhere\u001b[0m\u001b[0;34m)\u001b[0m\u001b[0;34m\u001b[0m\u001b[0;34m\u001b[0m\u001b[0m\n\u001b[0;32m-> 1830\u001b[0;31m         \u001b[0mself\u001b[0m\u001b[0;34m.\u001b[0m\u001b[0mclose\u001b[0m\u001b[0;34m(\u001b[0m\u001b[0;34m)\u001b[0m\u001b[0;34m\u001b[0m\u001b[0;34m\u001b[0m\u001b[0m\n\u001b[0m\u001b[1;32m   1831\u001b[0m         \u001b[0;32mreturn\u001b[0m \u001b[0mresults\u001b[0m\u001b[0;34m\u001b[0m\u001b[0;34m\u001b[0m\u001b[0m\n\u001b[1;32m   1832\u001b[0m \u001b[0;34m\u001b[0m\u001b[0m\n",
      "\u001b[0;32m/usr/local/lib/python3.6/dist-packages/pandas/io/pytables.py\u001b[0m in \u001b[0;36mclose\u001b[0;34m(self)\u001b[0m\n\u001b[1;32m   1803\u001b[0m     \u001b[0;32mdef\u001b[0m \u001b[0mclose\u001b[0m\u001b[0;34m(\u001b[0m\u001b[0mself\u001b[0m\u001b[0;34m)\u001b[0m\u001b[0;34m:\u001b[0m\u001b[0;34m\u001b[0m\u001b[0;34m\u001b[0m\u001b[0m\n\u001b[1;32m   1804\u001b[0m         \u001b[0;32mif\u001b[0m \u001b[0mself\u001b[0m\u001b[0;34m.\u001b[0m\u001b[0mauto_close\u001b[0m\u001b[0;34m:\u001b[0m\u001b[0;34m\u001b[0m\u001b[0;34m\u001b[0m\u001b[0m\n\u001b[0;32m-> 1805\u001b[0;31m             \u001b[0mself\u001b[0m\u001b[0;34m.\u001b[0m\u001b[0mstore\u001b[0m\u001b[0;34m.\u001b[0m\u001b[0mclose\u001b[0m\u001b[0;34m(\u001b[0m\u001b[0;34m)\u001b[0m\u001b[0;34m\u001b[0m\u001b[0;34m\u001b[0m\u001b[0m\n\u001b[0m\u001b[1;32m   1806\u001b[0m \u001b[0;34m\u001b[0m\u001b[0m\n\u001b[1;32m   1807\u001b[0m     \u001b[0;32mdef\u001b[0m \u001b[0mget_result\u001b[0m\u001b[0;34m(\u001b[0m\u001b[0mself\u001b[0m\u001b[0;34m,\u001b[0m \u001b[0mcoordinates\u001b[0m\u001b[0;34m:\u001b[0m \u001b[0mbool\u001b[0m \u001b[0;34m=\u001b[0m \u001b[0;32mFalse\u001b[0m\u001b[0;34m)\u001b[0m\u001b[0;34m:\u001b[0m\u001b[0;34m\u001b[0m\u001b[0;34m\u001b[0m\u001b[0m\n",
      "\u001b[0;32m/usr/local/lib/python3.6/dist-packages/pandas/io/pytables.py\u001b[0m in \u001b[0;36mclose\u001b[0;34m(self)\u001b[0m\n\u001b[1;32m    693\u001b[0m         \"\"\"\n\u001b[1;32m    694\u001b[0m         \u001b[0;32mif\u001b[0m \u001b[0mself\u001b[0m\u001b[0;34m.\u001b[0m\u001b[0m_handle\u001b[0m \u001b[0;32mis\u001b[0m \u001b[0;32mnot\u001b[0m \u001b[0;32mNone\u001b[0m\u001b[0;34m:\u001b[0m\u001b[0;34m\u001b[0m\u001b[0;34m\u001b[0m\u001b[0m\n\u001b[0;32m--> 695\u001b[0;31m             \u001b[0mself\u001b[0m\u001b[0;34m.\u001b[0m\u001b[0m_handle\u001b[0m\u001b[0;34m.\u001b[0m\u001b[0mclose\u001b[0m\u001b[0;34m(\u001b[0m\u001b[0;34m)\u001b[0m\u001b[0;34m\u001b[0m\u001b[0;34m\u001b[0m\u001b[0m\n\u001b[0m\u001b[1;32m    696\u001b[0m         \u001b[0mself\u001b[0m\u001b[0;34m.\u001b[0m\u001b[0m_handle\u001b[0m \u001b[0;34m=\u001b[0m \u001b[0;32mNone\u001b[0m\u001b[0;34m\u001b[0m\u001b[0;34m\u001b[0m\u001b[0m\n\u001b[1;32m    697\u001b[0m \u001b[0;34m\u001b[0m\u001b[0m\n",
      "\u001b[0;32m/usr/local/lib/python3.6/dist-packages/tables/file.py\u001b[0m in \u001b[0;36mclose\u001b[0;34m(self)\u001b[0m\n\u001b[1;32m   2736\u001b[0m \u001b[0;34m\u001b[0m\u001b[0m\n\u001b[1;32m   2737\u001b[0m         \u001b[0;31m# Close the file\u001b[0m\u001b[0;34m\u001b[0m\u001b[0;34m\u001b[0m\u001b[0;34m\u001b[0m\u001b[0m\n\u001b[0;32m-> 2738\u001b[0;31m         \u001b[0mself\u001b[0m\u001b[0;34m.\u001b[0m\u001b[0m_close_file\u001b[0m\u001b[0;34m(\u001b[0m\u001b[0;34m)\u001b[0m\u001b[0;34m\u001b[0m\u001b[0;34m\u001b[0m\u001b[0m\n\u001b[0m\u001b[1;32m   2739\u001b[0m \u001b[0;34m\u001b[0m\u001b[0m\n\u001b[1;32m   2740\u001b[0m         \u001b[0;31m# After the objects are disconnected, destroy the\u001b[0m\u001b[0;34m\u001b[0m\u001b[0;34m\u001b[0m\u001b[0;34m\u001b[0m\u001b[0m\n",
      "\u001b[0;31mKeyboardInterrupt\u001b[0m: "
     ]
    }
   ],
   "source": [
    "corpus_names = [\"mine-trects-kba2014-filtered\"]\n",
    "\n",
    "trainer = NNTrainer()\n",
    "\n",
    "trainer.train(corpus_names=corpus_names, verbose=True, force_reload=False)"
   ]
  },
  {
   "cell_type": "code",
   "execution_count": null,
   "metadata": {},
   "outputs": [],
   "source": [
    "# class NNTrainer:\n",
    "#     def __init__(self, proj_dir=None):\n",
    "#         if proj_dir is None:\n",
    "#             self.proj_dir = '/nfs/proj-repo/AAARG-dissertation'\n",
    "#         else:\n",
    "#             self.proj_dir = proj_dir\n",
    "#         self.paths = PathRetriever(self.proj_dir)\n",
    "#         self.model_path = self.proj_dir + \"/\" + \"test_nn\"\n",
    "        \n",
    "#     def train(self, force_reload=False):\n",
    "#         print(\"Creating NN\")\n",
    "#         if os.path.exists(self.model_path) and not force_reload:\n",
    "#             nn = tf.keras.models.load_model(self.model_path)\n",
    "#             print(\"loaded from file at \" + str(self.model_path))\n",
    "#         else:\n",
    "#             tuner = NNTuner()\n",
    "#             print(\"Getting X,y\")\n",
    "#             x,y = self.get_x_y()\n",
    "#             print(\"Fitting NN\")\n",
    "#             nn = tuner.search(inputs=x,labels=y, save_path=self.model_path)\n",
    "#             print(\"Completed fitting\")\n",
    "#         print(\"Comparing predictions\")\n",
    "#         results = self.compare_predict(nn)\n",
    "#         print(self.format_results(results))\n",
    "        \n",
    "#     def compare_predict(self, nn):\n",
    "#         knear = KNearest()\n",
    "#         k_sents = knear.get_k_nearest(k=20)\n",
    "#         results = []\n",
    "        \n",
    "#         embs = []\n",
    "#         for index, sent in k_sents.iterrows():\n",
    "#             emb = sent['embedding']\n",
    "#             embs.append(emb)\n",
    "#             result = [sent['cosine_similarity']]\n",
    "#             results.append(result)\n",
    "#         embs = np.asarray(embs)  # turn into matrix\n",
    "#         preds = nn.predict(embs)\n",
    "#         for result, pred in zip(results, preds):\n",
    "#             result.append(pred)\n",
    "        \n",
    "# #         for index, sent in k_sents.iterrows():\n",
    "# #             emb = sent['embedding']\n",
    "# # #             emb = np.expand_dims(emb, axis=1)\n",
    "# #             emb = (emb,)\n",
    "# # #             print(\"shape emb: \" + str(emb.shape))\n",
    "# #             results[str(emb)] = []\n",
    "# #             results[str(emb)].append(sent['cosine_similarity'])  # actual\n",
    "# #             pred = nn.predict(emb)\n",
    "# #             results[embedding].append(pred)  # prediction\n",
    "        \n",
    "#         return results\n",
    "    \n",
    "#     def format_results(self, results):\n",
    "#         outstr = \"\"\n",
    "#         for result in results:\n",
    "#             outstr += \"actual: \" + str(result[0]) + \"\\n\"\n",
    "#             outstr += \"pred: \" + str(result[1]) + \"\\n\"\n",
    "#             outstr += \"\\n\"\n",
    "# #             outstr += str(emb) + \"\\n\"\n",
    "# #             outstr += \"actual: \" + str(result[0]) + \"\\n\"\n",
    "# #             outstr += \"pred: \" + str(result[1]) + \"\\n\"\n",
    "# #             outstr += \"\\n\"\n",
    "#         return outstr\n",
    "        \n",
    "#     def get_x_y(self):\n",
    "#         corpus_name = \"original-trects-kba2014-filtered\"\n",
    "#         nested_dir = 'distilbert-base-nli-stsb-mean-tokens'\n",
    "#         x_y_paths = self.paths.get_embedding_paths(corpus_name, nested_dir)\n",
    "#         x = []\n",
    "#         y = []\n",
    "#         for path in tqdm_notebook(list(x_y_paths['path'])):\n",
    "#             emb_df = load_embeddings(path, verbose=False)\n",
    "#             emb_x = list(emb_df['embedding'])\n",
    "#             emb_y = list(emb_df['cosine_similarity'])\n",
    "# #             # keras compatibility wrap singular floats in ndarrays\n",
    "#             emb_y = [np.asarray(num) for num in emb_y]\n",
    "#             x.extend(emb_x)\n",
    "#             y.extend(emb_y)\n",
    "#         x = np.asarray(x)\n",
    "#         y = np.asarray(y)\n",
    "#         return x, y"
   ]
  },
  {
   "cell_type": "code",
   "execution_count": null,
   "metadata": {},
   "outputs": [],
   "source": [
    "trainer = NNTrainer()\n",
    "trainer.train(force_reload=True)"
   ]
  },
  {
   "cell_type": "code",
   "execution_count": null,
   "metadata": {},
   "outputs": [],
   "source": [
    "# class NeuralNetwork:\n",
    "#     def __init__(self, nn_config, learning_rate=0.0001, input_dim=768, output_dim=1, loss_func=\"huber\",\n",
    "#                 epochs=10):\n",
    "#         # nn structure params\n",
    "#         self.nn_config = nn_config  # currently just list of layer sizes, can expand to include diff types layers\n",
    "#         self.learning_rate = learning_rate\n",
    "#         self.input_dim = input_dim\n",
    "#         self.output_dim = output_dim\n",
    "#         self.loss_func = loss_func\n",
    "        \n",
    "#         # nn fit execution params\n",
    "#         self.epochs = epochs\n",
    "        \n",
    "#         self.model = self.build_model()\n",
    "        \n",
    "#     def build_model(self):\n",
    "#         model = Sequential()\n",
    "#         ilayer = InputLayer(input_shape=(self.input_dim,))\n",
    "#         model.add(ilayer)\n",
    "#         for num_neurons in self.nn_config:\n",
    "#             # GRU has better memory performance\n",
    "#             # use tanh bc cos similarity is between -1 and 1\n",
    "#             model.add(Dense(num_neurons, activation='tanh'))  \n",
    "#         # output layer\n",
    "# #         model.add(Dense(self.output_dim, activation='tanh'))\n",
    "#         # build model\n",
    "#         opt = keras.optimizers.Adam(learning_rate=self.learning_rate)\n",
    "#         model.compile(loss=self.loss_func, optimizer=opt)\n",
    "#         return model\n",
    "    \n",
    "#     def fit(self, X, y=None, save_path=None):\n",
    "#         if y is not None:\n",
    "#             self.model.fit(x=X, y=y, epochs=self.epochs, verbose=1,\n",
    "#                           use_multiprocessing=True, workers=32)\n",
    "#         else:\n",
    "#             self.model.fit(x=X, epochs=self.epochs, verbose=1,\n",
    "#                           use_multiprocessing=True, workers=32)\n",
    "#         if save_path is not None:\n",
    "#             self.model.save(save_path)\n",
    "    \n",
    "#     def predict(self, s, a=None):              \n",
    "#         if a==None:            \n",
    "#             return self._predict_nn(s)\n",
    "#         else:                        \n",
    "#             return self._predict_nn(s)[a]\n",
    "        \n",
    "#     def _predict_nn(self,state_hat):                          \n",
    "#         \"\"\"\n",
    "#         Predict the output of the neural network (note: these can be vectors)\n",
    "#         \"\"\"                \n",
    "#         x = self.model.predict(state_hat)                                                    \n",
    "#         return x"
   ]
  },
  {
   "cell_type": "code",
   "execution_count": null,
   "metadata": {},
   "outputs": [],
   "source": [
    "# class NNTrainer:\n",
    "#     def __init__(self, proj_dir=None):\n",
    "#         if proj_dir is None:\n",
    "#             self.proj_dir = '/nfs/proj-repo/AAARG-dissertation'\n",
    "#         else:\n",
    "#             self.proj_dir = proj_dir\n",
    "#         self.paths = PathRetriever(self.proj_dir)\n",
    "#         self.nn_config = [752, 128]\n",
    "#         self.model_path = self.proj_dir + \"/\" + \"test_nn\"\n",
    "        \n",
    "#     def train(self, force_reload=False):\n",
    "#         print(\"Creating NN\")\n",
    "#         if os.path.exists(self.model_path) and not force_reload:\n",
    "#             nn = tf.keras.models.load_model(self.model_path)\n",
    "#             print(\"loaded from file at \" + str(self.model_path))\n",
    "#         else:\n",
    "#             nn = HyperNNs(self.nn_config, epochs=1)\n",
    "#             print(\"Getting X,y\")\n",
    "#             x,y = self.get_x_y()\n",
    "#             print(\"Fitting NN\")\n",
    "#             nn.fit(x,y=y, save_path=self.model_path)\n",
    "#             print(\"Completed fitting\")\n",
    "#         print(\"Comparing predictions\")\n",
    "#         results = self.compare_predict(nn)\n",
    "#         print(self.format_results(results))\n",
    "        \n",
    "#     def compare_predict(self, nn):\n",
    "#         knear = KNearest()\n",
    "#         k_sents = knear.get_k_nearest(k=20)\n",
    "#         results = []\n",
    "        \n",
    "#         embs = []\n",
    "#         for index, sent in k_sents.iterrows():\n",
    "#             emb = sent['embedding']\n",
    "#             embs.append(emb)\n",
    "#             result = [sent['cosine_similarity']]\n",
    "#             results.append(result)\n",
    "#         embs = np.asarray(embs)  # turn into matrix\n",
    "#         preds = nn.predict(embs)\n",
    "#         for result, pred in zip(results, preds):\n",
    "#             result.append(pred)\n",
    "        \n",
    "# #         for index, sent in k_sents.iterrows():\n",
    "# #             emb = sent['embedding']\n",
    "# # #             emb = np.expand_dims(emb, axis=1)\n",
    "# #             emb = (emb,)\n",
    "# # #             print(\"shape emb: \" + str(emb.shape))\n",
    "# #             results[str(emb)] = []\n",
    "# #             results[str(emb)].append(sent['cosine_similarity'])  # actual\n",
    "# #             pred = nn.predict(emb)\n",
    "# #             results[embedding].append(pred)  # prediction\n",
    "        \n",
    "#         return results\n",
    "    \n",
    "#     def format_results(self, results):\n",
    "#         outstr = \"\"\n",
    "#         for result in results:\n",
    "#             outstr += \"actual: \" + str(result[0]) + \"\\n\"\n",
    "#             outstr += \"pred: \" + str(result[1]) + \"\\n\"\n",
    "#             outstr += \"\\n\"\n",
    "# #             outstr += str(emb) + \"\\n\"\n",
    "# #             outstr += \"actual: \" + str(result[0]) + \"\\n\"\n",
    "# #             outstr += \"pred: \" + str(result[1]) + \"\\n\"\n",
    "# #             outstr += \"\\n\"\n",
    "#         return outstr\n",
    "        \n",
    "#     def get_x_y(self):\n",
    "#         corpus_name = \"original-trects-kba2014-filtered\"\n",
    "#         nested_dir = 'distilbert-base-nli-stsb-mean-tokens'\n",
    "#         x_y_paths = self.paths.get_embedding_paths(corpus_name, nested_dir)\n",
    "#         x = []\n",
    "#         y = []\n",
    "#         for path in tqdm_notebook(list(x_y_paths['path'])):\n",
    "#             emb_df = load_embeddings(path, verbose=False)\n",
    "#             emb_x = list(emb_df['embedding'])\n",
    "#             emb_y = list(emb_df['cosine_similarity'])\n",
    "# #             # keras compatibility wrap singular floats in ndarrays\n",
    "#             emb_y = [np.asarray(num) for num in emb_y]\n",
    "#             x.extend(emb_x)\n",
    "#             y.extend(emb_y)\n",
    "#         x = np.asarray(x)\n",
    "#         y = np.asarray(y)\n",
    "#         return x, y"
   ]
  },
  {
   "cell_type": "code",
   "execution_count": null,
   "metadata": {
    "scrolled": true
   },
   "outputs": [],
   "source": [
    "trainer = NNTrainer()\n",
    "trainer.train(force_reload=True)"
   ]
  },
  {
   "cell_type": "markdown",
   "metadata": {},
   "source": [
    "## Simple K-Nearest"
   ]
  },
  {
   "cell_type": "code",
   "execution_count": null,
   "metadata": {},
   "outputs": [],
   "source": [
    "class KNearest:\n",
    "    def __init__(self, proj_dir=None):\n",
    "        if proj_dir is None:\n",
    "            self.proj_dir = '/nfs/proj-repo/AAARG-dissertation'\n",
    "        self.paths = PathRetriever(self.proj_dir)\n",
    "    \n",
    "    def get_k_nearest(self, k=10):\n",
    "        topic_ids = None\n",
    "        emb_paths = self.get_emb_paths(topic_ids=topic_ids)\n",
    "        \n",
    "        emb_df = []\n",
    "        for path in tqdm_notebook(list(emb_paths['path'])):\n",
    "            add_df = load_embeddings(path, verbose=False)\n",
    "#             debug = add_df[0:1]\n",
    "#             debug = list(debug['embedding'])[0]\n",
    "#             print(\"type emb: \" + str(type(debug)))\n",
    "#             print(\"emb shape: \" + str(debug.shape))\n",
    "            emb_df.append(load_embeddings(path, verbose=False))\n",
    "        emb_df = pd.concat(emb_df, ignore_index=True)\n",
    "\n",
    "        k_sents = emb_df.nlargest(k, columns=['cosine_similarity'])\n",
    "#         top_emb = k_sents.iloc[0]['embedding']\n",
    "#         print(top_emb)\n",
    "#         print(display(k_sents))\n",
    "        return k_sents\n",
    "        \n",
    "        \n",
    "#     def tokens_embs(self):\n",
    "#         \"\"\"Retrieve sentences and their embeddings\"\"\"\n",
    "#         emb_paths = self.get_emb_paths()\n",
    "#         toks = []\n",
    "#         embs = []\n",
    "        \n",
    "#         for path in tqdm_notebook(list(emb_paths['path'])):\n",
    "#             emb_df = load_embeddings(path, verbose=False)\n",
    "#             toks.extend(list(emb_df['sentence']))\n",
    "#             embs.extend(list(emb_df['embedding']))\n",
    "#         return toks, embs\n",
    "        \n",
    "            \n",
    "    def get_emb_paths(self, topic_ids=None):\n",
    "        corpus_name = \"original-trects-kba2014-filtered\"\n",
    "        nested_dir = 'distilbert-base-nli-stsb-mean-tokens'\n",
    "        emb_paths = self.paths.get_embedding_paths(corpus_name, nested_dir, topic_ids=topic_ids)\n",
    "        return emb_paths"
   ]
  },
  {
   "cell_type": "code",
   "execution_count": null,
   "metadata": {},
   "outputs": [],
   "source": [
    "knear = KNearest()\n",
    "knear.get_k_nearest()"
   ]
  },
  {
   "cell_type": "code",
   "execution_count": null,
   "metadata": {},
   "outputs": [],
   "source": [
    "arr = np.array([1,5,6,2,2])\n",
    "arr = np.expand_dimensions(arr)\n",
    "print(arr.shape)"
   ]
  },
  {
   "cell_type": "code",
   "execution_count": null,
   "metadata": {},
   "outputs": [],
   "source": []
  }
 ],
 "metadata": {
  "kernelspec": {
   "display_name": "Python 3",
   "language": "python",
   "name": "python3"
  },
  "language_info": {
   "codemirror_mode": {
    "name": "ipython",
    "version": 3
   },
   "file_extension": ".py",
   "mimetype": "text/x-python",
   "name": "python",
   "nbconvert_exporter": "python",
   "pygments_lexer": "ipython3",
   "version": "3.6.8"
  }
 },
 "nbformat": 4,
 "nbformat_minor": 2
}
