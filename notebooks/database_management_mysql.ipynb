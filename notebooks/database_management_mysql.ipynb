{
 "cells": [
  {
   "cell_type": "markdown",
   "metadata": {},
   "source": [
    "# Database Management\n",
    "\n",
    "## Notebook for creating and editing database tables/entries"
   ]
  },
  {
   "cell_type": "code",
   "execution_count": 2,
   "metadata": {},
   "outputs": [],
   "source": [
    "# import sqlite3\n",
    "# import numpy as np\n",
    "# sqlite3.register_adapter(np.int64, lambda val: int(val))  # sqlite3 won't accept int > 8 bytes\n",
    "# sqlite3.register_adapter(np.int32, lambda val: int(val))\n",
    "import warnings\n",
    "import mysql.connector"
   ]
  },
  {
   "cell_type": "code",
   "execution_count": 5,
   "metadata": {},
   "outputs": [],
   "source": [
    "# db_dir = '/nfs/proj-repo/AAARG-dissertation'\n",
    "# db_name = 'sumresults.db'\n",
    "# db_path = db_dir + '/' + db_name"
   ]
  },
  {
   "cell_type": "code",
   "execution_count": 11,
   "metadata": {},
   "outputs": [],
   "source": [
    "# def get_connection(path):\n",
    "#     conn = sqlite3.connect(path)  # creates db if doesn't exist\n",
    "#     c = conn.cursor()\n",
    "#     return conn, c\n",
    "def get_connection():\n",
    "    db = mysql.connector.connect(\n",
    "        host=\"172.30.64.94\",\n",
    "        user=\"root\",\n",
    "        password=\"aaargroot\",\n",
    "        database='aaargdb'\n",
    "    )\n",
    "    cursor = db.cursor(buffered=True)\n",
    "    return db, cursor"
   ]
  },
  {
   "cell_type": "code",
   "execution_count": 18,
   "metadata": {},
   "outputs": [],
   "source": [
    "TABLES = {}\n",
    "TABLES['topic'] = \"\"\"CREATE TABLE IF NOT EXISTS topics (\n",
    "    id int NOT NULL,\n",
    "    title varchar(1000),\n",
    "    description varchar (1000),\n",
    "    start int,\n",
    "    end int,\n",
    "    query text (1000),\n",
    "    type varchar (1000),\n",
    "    PRIMARY KEY (id)\n",
    ")\"\"\"\n",
    "\n",
    "TABLES['techniques'] = \"\"\" CREATE TABLE IF NOT EXISTS techniques (\n",
    "    name varchar (500),\n",
    "    description text,\n",
    "    PRIMARY KEY (name)\n",
    ")\"\"\"\n",
    "\n",
    "TABLES['instances'] = \"\"\"CREATE TABLE IF NOT EXISTS instances (\n",
    "    instance int,\n",
    "    technique varchar(500),\n",
    "    temporal boolean,\n",
    "    start_exec datetime,\n",
    "    end_exec datetime,\n",
    "    FOREIGN KEY (technique) REFERENCES techniques(name),\n",
    "    PRIMARY KEY (instance)\n",
    ")\"\"\"\n",
    "\n",
    "TABLES['instance_meta'] = \"\"\"CREATE TABLE IF NOT EXISTS instance_meta (\n",
    "    topic_id int,\n",
    "    instance int,\n",
    "    summary longtext,\n",
    "    streamids longtext,\n",
    "    epoch_start int,\n",
    "    epoch_end int,\n",
    "    importance_score int,\n",
    "    total_importance int,\n",
    "    r1_precision FLOAT(53),\n",
    "    r1_recall FLOAT(53),\n",
    "    r1_fmeasure FLOAT(53),\n",
    "    FOREIGN KEY (topic_id) REFERENCES topics(id),\n",
    "    FOREIGN KEY (instance) REFERENCES instances(instance),\n",
    "    PRIMARY KEY (topic_id, instance)\n",
    ")\"\"\"\n",
    "\n",
    "TABLES['nuggets'] = \"\"\"CREATE TABLE IF NOT EXISTS nuggets (\n",
    "    nugget_id varchar(200),\n",
    "    topic_id int,\n",
    "    importance int,\n",
    "    nugget_text text,\n",
    "    FOREIGN KEY (topic_id) REFERENCES topics(id),\n",
    "    PRIMARY KEY (nugget_id, topic_id)\n",
    ")\"\"\"\n",
    "\n",
    "TABLES['nugget_instances'] = \"\"\"CREATE TABLE IF NOT EXISTS nugget_instances (\n",
    "    nugget_id varchar(200),\n",
    "    topic_id int,\n",
    "    instance int,\n",
    "    technique varchar(500),\n",
    "    is_complete_summary boolean,\n",
    "    found boolean,\n",
    "    FOREIGN KEY (nugget_id, topic_id) REFERENCES nuggets (nugget_id, topic_id),\n",
    "    FOREIGN KEY (instance) REFERENCES instances (instance),\n",
    "    FOREIGN KEY (technique) REFERENCES techniques (name)\n",
    ")\"\"\""
   ]
  },
  {
   "cell_type": "code",
   "execution_count": 19,
   "metadata": {},
   "outputs": [
    {
     "name": "stdout",
     "output_type": "stream",
     "text": [
      "Added topic table\n",
      "Added techniques table\n",
      "Added instances table\n",
      "Added instance_meta table\n",
      "Added nuggets table\n",
      "Added nugget_instances table\n",
      "Finshed adding tables\n"
     ]
    }
   ],
   "source": [
    "def create_tables(conn, cursor):\n",
    "    for name, table in TABLES.items():\n",
    "        cursor.execute(table)\n",
    "        print(\"Added \" + str(name) + \" table\")\n",
    "    conn.commit()\n",
    "    print(\"Finshed adding tables\")\n",
    "    \n",
    "conn, cursor = get_connection()\n",
    "create_tables(cursor)\n",
    "conn.close()"
   ]
  },
  {
   "cell_type": "markdown",
   "metadata": {},
   "source": [
    "## Pre-Populating Database"
   ]
  },
  {
   "cell_type": "code",
   "execution_count": null,
   "metadata": {},
   "outputs": [],
   "source": [
    "def is_empty_table(cursor, table_name):\n",
    "    exec_str = \"SELECT * from \" + table_name + \" limit 1\"\n",
    "    cursor.execute(exec_str)\n",
    "    count = cursor.rowcount\n",
    "    print(\"is_empty_table count: \" + str(count))\n",
    "    if count > 0:\n",
    "        return False\n",
    "    elif count == 0:\n",
    "        return True\n",
    "    elif count < 0:\n",
    "        warnings.warn(\"Using a non-buffered cursor, unable to effectively check rowcount\")"
   ]
  },
  {
   "cell_type": "code",
   "execution_count": null,
   "metadata": {},
   "outputs": [],
   "source": [
    "def populate_topics(conn, cursor, topics_df):\n",
    "    if is_empty_table(cursor, \"topics\"):\n",
    "        cols = ['id', 'title', 'description', 'start', 'end', 'query', 'type']\n",
    "        entries = []\n",
    "        for index, row in topics_df.iterrows():\n",
    "            entry = []\n",
    "            for col in cols:\n",
    "                entry.append(row[col])\n",
    "            entries.append(tuple(entry))\n",
    "        print(\"entries len:\" + str(len(entries)))\n",
    "        cursor.executemany(\"\"\"INSERT INTO topics (id, title, description, start, end, query, type) \n",
    "            VALUES(%s, %s, %s, %s, %s, %s, %s)\"\"\", entries)\n",
    "        conn.commit()\n",
    "        print(\"topics_df inserted into db\")\n",
    "    else:\n",
    "        warnings.warn(\"The topics table already has entries\")"
   ]
  },
  {
   "cell_type": "code",
   "execution_count": null,
   "metadata": {},
   "outputs": [],
   "source": [
    "def populate_nuggets(conn, cursor, nugget_df):\n",
    "    if is_empty_table(cursor, \"nuggets\"):\n",
    "        # drop unneeded cols\n",
    "        cols = ['nugget_id', 'topic_id', 'importance', 'nugget_text']\n",
    "        df = nugget_df[cols]\n",
    "        # drop repeats\n",
    "        df = df.drop_duplicates(subset=['topic_id', 'nugget_id'])\n",
    "\n",
    "        entries = []\n",
    "        for index, row in df.iterrows():\n",
    "            entry = []\n",
    "            for col in cols:\n",
    "                entry.append(row[col])\n",
    "            entries.append(tuple(entry))\n",
    "        cursor.executemany(\"\"\"INSERT INTO nuggets (nugget_id, topic_id, importance, nugget_text)\n",
    "            VALUES(%s, %s, %s, %s)\"\"\", entries)\n",
    "        conn.commit()\n",
    "        print(\"nuggets inserted into db\")\n",
    "    else:\n",
    "        warnings.warn(\"The nuggets table already has entries\")   "
   ]
  },
  {
   "cell_type": "code",
   "execution_count": null,
   "metadata": {},
   "outputs": [],
   "source": [
    "# def populate_nuggets(conn, cursor, nugget_df):\n",
    "#     cursor.execute('SELECT COUNT(nugget_id) FROM nuggets')\n",
    "#     rowcount = cursor.fetchone()[0]\n",
    "#     if rowcount == 0:\n",
    "#         # drop unneeded cols\n",
    "#         cols = ['nugget_id', 'topic_id', 'importance', 'nugget_text']\n",
    "#         df = nugget_df[cols]\n",
    "#         # drop repeats\n",
    "#         df = df.drop_duplicates(subset=['topic_id', 'nugget_id'])\n",
    "\n",
    "#         entries = []\n",
    "#         for index, row in df.iterrows():\n",
    "#             entry = []\n",
    "#             for col in cols:\n",
    "#                 entry.append(row[col])\n",
    "#             entries.append(entry)\n",
    "#         cursor.executemany('insert into nuggets values (?,?,?,?)', entries)\n",
    "#     else:\n",
    "#         warnings.warn(\"The nuggets table already has entries\")\n",
    "#     conn.commit()\n",
    "#     print(\"populated nuggets\")"
   ]
  },
  {
   "cell_type": "markdown",
   "metadata": {},
   "source": [
    "## Insertions"
   ]
  },
  {
   "cell_type": "code",
   "execution_count": null,
   "metadata": {},
   "outputs": [],
   "source": [
    "# def insert_"
   ]
  },
  {
   "cell_type": "code",
   "execution_count": null,
   "metadata": {},
   "outputs": [],
   "source": []
  }
 ],
 "metadata": {
  "kernelspec": {
   "display_name": "Python 3",
   "language": "python",
   "name": "python3"
  },
  "language_info": {
   "codemirror_mode": {
    "name": "ipython",
    "version": 3
   },
   "file_extension": ".py",
   "mimetype": "text/x-python",
   "name": "python",
   "nbconvert_exporter": "python",
   "pygments_lexer": "ipython3",
   "version": "3.6.8"
  }
 },
 "nbformat": 4,
 "nbformat_minor": 2
}
